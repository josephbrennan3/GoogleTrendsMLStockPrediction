{
 "cells": [
  {
   "cell_type": "code",
   "execution_count": 1,
   "metadata": {},
   "outputs": [],
   "source": [
    "import pandas as pd\n",
    "import numpy as np\n",
    "import matplotlib.pyplot as plt\n",
    "import time\n",
    "from sklearn.model_selection import train_test_split\n",
    "from sklearn.svm import SVR\n",
    "from sklearn.metrics import accuracy_score\n",
    "from datetime import date"
   ]
  },
  {
   "cell_type": "code",
   "execution_count": 2,
   "metadata": {},
   "outputs": [],
   "source": [
    "start = time.process_time()"
   ]
  },
  {
   "cell_type": "code",
   "execution_count": 3,
   "metadata": {},
   "outputs": [
    {
     "data": {
      "text/html": [
       "<div>\n",
       "<style scoped>\n",
       "    .dataframe tbody tr th:only-of-type {\n",
       "        vertical-align: middle;\n",
       "    }\n",
       "\n",
       "    .dataframe tbody tr th {\n",
       "        vertical-align: top;\n",
       "    }\n",
       "\n",
       "    .dataframe thead th {\n",
       "        text-align: right;\n",
       "    }\n",
       "</style>\n",
       "<table border=\"1\" class=\"dataframe\">\n",
       "  <thead>\n",
       "    <tr style=\"text-align: right;\">\n",
       "      <th></th>\n",
       "      <th>Open</th>\n",
       "      <th>High</th>\n",
       "      <th>Low</th>\n",
       "      <th>Close</th>\n",
       "      <th>Volume</th>\n",
       "      <th>network</th>\n",
       "      <th>BT</th>\n",
       "      <th>EE</th>\n",
       "      <th>data</th>\n",
       "      <th>services</th>\n",
       "      <th>communications</th>\n",
       "    </tr>\n",
       "    <tr>\n",
       "      <th>Date</th>\n",
       "      <th></th>\n",
       "      <th></th>\n",
       "      <th></th>\n",
       "      <th></th>\n",
       "      <th></th>\n",
       "      <th></th>\n",
       "      <th></th>\n",
       "      <th></th>\n",
       "      <th></th>\n",
       "      <th></th>\n",
       "      <th></th>\n",
       "    </tr>\n",
       "  </thead>\n",
       "  <tbody>\n",
       "    <tr>\n",
       "      <th>2017-01-03</th>\n",
       "      <td>304.285206</td>\n",
       "      <td>308.339622</td>\n",
       "      <td>302.278470</td>\n",
       "      <td>304.244263</td>\n",
       "      <td>14324026</td>\n",
       "      <td>92</td>\n",
       "      <td>91</td>\n",
       "      <td>95</td>\n",
       "      <td>83</td>\n",
       "      <td>91</td>\n",
       "      <td>85</td>\n",
       "    </tr>\n",
       "    <tr>\n",
       "      <th>2017-01-04</th>\n",
       "      <td>305.104266</td>\n",
       "      <td>311.902552</td>\n",
       "      <td>299.411707</td>\n",
       "      <td>311.697784</td>\n",
       "      <td>22025318</td>\n",
       "      <td>95</td>\n",
       "      <td>93</td>\n",
       "      <td>94</td>\n",
       "      <td>87</td>\n",
       "      <td>94</td>\n",
       "      <td>93</td>\n",
       "    </tr>\n",
       "    <tr>\n",
       "      <th>2017-01-05</th>\n",
       "      <td>313.376907</td>\n",
       "      <td>316.202690</td>\n",
       "      <td>307.416515</td>\n",
       "      <td>314.851227</td>\n",
       "      <td>18310312</td>\n",
       "      <td>94</td>\n",
       "      <td>85</td>\n",
       "      <td>90</td>\n",
       "      <td>92</td>\n",
       "      <td>94</td>\n",
       "      <td>81</td>\n",
       "    </tr>\n",
       "    <tr>\n",
       "      <th>2017-01-06</th>\n",
       "      <td>315.506507</td>\n",
       "      <td>315.547451</td>\n",
       "      <td>312.557843</td>\n",
       "      <td>314.974091</td>\n",
       "      <td>12651601</td>\n",
       "      <td>92</td>\n",
       "      <td>88</td>\n",
       "      <td>80</td>\n",
       "      <td>85</td>\n",
       "      <td>87</td>\n",
       "      <td>83</td>\n",
       "    </tr>\n",
       "    <tr>\n",
       "      <th>2017-01-09</th>\n",
       "      <td>316.366531</td>\n",
       "      <td>316.898922</td>\n",
       "      <td>311.943547</td>\n",
       "      <td>316.120819</td>\n",
       "      <td>13307527</td>\n",
       "      <td>93</td>\n",
       "      <td>86</td>\n",
       "      <td>94</td>\n",
       "      <td>92</td>\n",
       "      <td>99</td>\n",
       "      <td>85</td>\n",
       "    </tr>\n",
       "  </tbody>\n",
       "</table>\n",
       "</div>"
      ],
      "text/plain": [
       "                  Open        High         Low       Close    Volume  network  \\\n",
       "Date                                                                            \n",
       "2017-01-03  304.285206  308.339622  302.278470  304.244263  14324026       92   \n",
       "2017-01-04  305.104266  311.902552  299.411707  311.697784  22025318       95   \n",
       "2017-01-05  313.376907  316.202690  307.416515  314.851227  18310312       94   \n",
       "2017-01-06  315.506507  315.547451  312.557843  314.974091  12651601       92   \n",
       "2017-01-09  316.366531  316.898922  311.943547  316.120819  13307527       93   \n",
       "\n",
       "            BT  EE  data  services  communications  \n",
       "Date                                                \n",
       "2017-01-03  91  95    83        91              85  \n",
       "2017-01-04  93  94    87        94              93  \n",
       "2017-01-05  85  90    92        94              81  \n",
       "2017-01-06  88  80    85        87              83  \n",
       "2017-01-09  86  94    92        99              85  "
      ]
     },
     "execution_count": 3,
     "metadata": {},
     "output_type": "execute_result"
    }
   ],
   "source": [
    "df = pd.read_csv('/Users/josephbrennan/Desktop/Data/Merged/bt_merged.csv')\n",
    "df.drop('Unnamed: 0', axis=1, inplace=True)\n",
    "df['Date'] = pd.to_datetime(df.Date)\n",
    "df.index = pd.DatetimeIndex(df.Date)\n",
    "table_dates = df.Date\n",
    "df.drop('Date', axis=1, inplace=True)\n",
    "df.head()"
   ]
  },
  {
   "cell_type": "code",
   "execution_count": 4,
   "metadata": {},
   "outputs": [
    {
     "data": {
      "text/plain": [
       "Open              0\n",
       "High              0\n",
       "Low               0\n",
       "Close             0\n",
       "Volume            0\n",
       "network           0\n",
       "BT                0\n",
       "EE                0\n",
       "data              0\n",
       "services          0\n",
       "communications    0\n",
       "dtype: int64"
      ]
     },
     "execution_count": 4,
     "metadata": {},
     "output_type": "execute_result"
    }
   ],
   "source": [
    "df.isna().sum()"
   ]
  },
  {
   "cell_type": "code",
   "execution_count": 5,
   "metadata": {},
   "outputs": [
    {
     "data": {
      "text/html": [
       "<div>\n",
       "<style scoped>\n",
       "    .dataframe tbody tr th:only-of-type {\n",
       "        vertical-align: middle;\n",
       "    }\n",
       "\n",
       "    .dataframe tbody tr th {\n",
       "        vertical-align: top;\n",
       "    }\n",
       "\n",
       "    .dataframe thead th {\n",
       "        text-align: right;\n",
       "    }\n",
       "</style>\n",
       "<table border=\"1\" class=\"dataframe\">\n",
       "  <thead>\n",
       "    <tr style=\"text-align: right;\">\n",
       "      <th></th>\n",
       "      <th>Open</th>\n",
       "      <th>High</th>\n",
       "      <th>Low</th>\n",
       "      <th>Close</th>\n",
       "      <th>Volume</th>\n",
       "      <th>network</th>\n",
       "      <th>BT</th>\n",
       "      <th>EE</th>\n",
       "      <th>data</th>\n",
       "      <th>services</th>\n",
       "      <th>communications</th>\n",
       "    </tr>\n",
       "    <tr>\n",
       "      <th>Date</th>\n",
       "      <th></th>\n",
       "      <th></th>\n",
       "      <th></th>\n",
       "      <th></th>\n",
       "      <th></th>\n",
       "      <th></th>\n",
       "      <th></th>\n",
       "      <th></th>\n",
       "      <th></th>\n",
       "      <th></th>\n",
       "      <th></th>\n",
       "    </tr>\n",
       "  </thead>\n",
       "  <tbody>\n",
       "    <tr>\n",
       "      <th>2021-06-29</th>\n",
       "      <td>199.25</td>\n",
       "      <td>200.199997</td>\n",
       "      <td>194.080002</td>\n",
       "      <td>195.5</td>\n",
       "      <td>27664600</td>\n",
       "      <td>99</td>\n",
       "      <td>91</td>\n",
       "      <td>84</td>\n",
       "      <td>83</td>\n",
       "      <td>89</td>\n",
       "      <td>88</td>\n",
       "    </tr>\n",
       "  </tbody>\n",
       "</table>\n",
       "</div>"
      ],
      "text/plain": [
       "              Open        High         Low  Close    Volume  network  BT  EE  \\\n",
       "Date                                                                           \n",
       "2021-06-29  199.25  200.199997  194.080002  195.5  27664600       99  91  84   \n",
       "\n",
       "            data  services  communications  \n",
       "Date                                        \n",
       "2021-06-29    83        89              88  "
      ]
     },
     "execution_count": 5,
     "metadata": {},
     "output_type": "execute_result"
    }
   ],
   "source": [
    "#Last row of data used to predict\n",
    "compare_price = df.tail(1)\n",
    "compare_price"
   ]
  },
  {
   "cell_type": "code",
   "execution_count": 6,
   "metadata": {},
   "outputs": [
    {
     "data": {
      "text/html": [
       "<div>\n",
       "<style scoped>\n",
       "    .dataframe tbody tr th:only-of-type {\n",
       "        vertical-align: middle;\n",
       "    }\n",
       "\n",
       "    .dataframe tbody tr th {\n",
       "        vertical-align: top;\n",
       "    }\n",
       "\n",
       "    .dataframe thead th {\n",
       "        text-align: right;\n",
       "    }\n",
       "</style>\n",
       "<table border=\"1\" class=\"dataframe\">\n",
       "  <thead>\n",
       "    <tr style=\"text-align: right;\">\n",
       "      <th></th>\n",
       "      <th>Open</th>\n",
       "      <th>High</th>\n",
       "      <th>Low</th>\n",
       "      <th>Close</th>\n",
       "      <th>Volume</th>\n",
       "      <th>network</th>\n",
       "      <th>BT</th>\n",
       "      <th>EE</th>\n",
       "      <th>data</th>\n",
       "      <th>services</th>\n",
       "      <th>communications</th>\n",
       "    </tr>\n",
       "    <tr>\n",
       "      <th>Date</th>\n",
       "      <th></th>\n",
       "      <th></th>\n",
       "      <th></th>\n",
       "      <th></th>\n",
       "      <th></th>\n",
       "      <th></th>\n",
       "      <th></th>\n",
       "      <th></th>\n",
       "      <th></th>\n",
       "      <th></th>\n",
       "      <th></th>\n",
       "    </tr>\n",
       "  </thead>\n",
       "  <tbody>\n",
       "    <tr>\n",
       "      <th>2017-01-03</th>\n",
       "      <td>304.285206</td>\n",
       "      <td>308.339622</td>\n",
       "      <td>302.278470</td>\n",
       "      <td>304.244263</td>\n",
       "      <td>14324026</td>\n",
       "      <td>92</td>\n",
       "      <td>91</td>\n",
       "      <td>95</td>\n",
       "      <td>83</td>\n",
       "      <td>91</td>\n",
       "      <td>85</td>\n",
       "    </tr>\n",
       "    <tr>\n",
       "      <th>2017-01-04</th>\n",
       "      <td>305.104266</td>\n",
       "      <td>311.902552</td>\n",
       "      <td>299.411707</td>\n",
       "      <td>311.697784</td>\n",
       "      <td>22025318</td>\n",
       "      <td>95</td>\n",
       "      <td>93</td>\n",
       "      <td>94</td>\n",
       "      <td>87</td>\n",
       "      <td>94</td>\n",
       "      <td>93</td>\n",
       "    </tr>\n",
       "    <tr>\n",
       "      <th>2017-01-05</th>\n",
       "      <td>313.376907</td>\n",
       "      <td>316.202690</td>\n",
       "      <td>307.416515</td>\n",
       "      <td>314.851227</td>\n",
       "      <td>18310312</td>\n",
       "      <td>94</td>\n",
       "      <td>85</td>\n",
       "      <td>90</td>\n",
       "      <td>92</td>\n",
       "      <td>94</td>\n",
       "      <td>81</td>\n",
       "    </tr>\n",
       "    <tr>\n",
       "      <th>2017-01-06</th>\n",
       "      <td>315.506507</td>\n",
       "      <td>315.547451</td>\n",
       "      <td>312.557843</td>\n",
       "      <td>314.974091</td>\n",
       "      <td>12651601</td>\n",
       "      <td>92</td>\n",
       "      <td>88</td>\n",
       "      <td>80</td>\n",
       "      <td>85</td>\n",
       "      <td>87</td>\n",
       "      <td>83</td>\n",
       "    </tr>\n",
       "    <tr>\n",
       "      <th>2017-01-09</th>\n",
       "      <td>316.366531</td>\n",
       "      <td>316.898922</td>\n",
       "      <td>311.943547</td>\n",
       "      <td>316.120819</td>\n",
       "      <td>13307527</td>\n",
       "      <td>93</td>\n",
       "      <td>86</td>\n",
       "      <td>94</td>\n",
       "      <td>92</td>\n",
       "      <td>99</td>\n",
       "      <td>85</td>\n",
       "    </tr>\n",
       "    <tr>\n",
       "      <th>...</th>\n",
       "      <td>...</td>\n",
       "      <td>...</td>\n",
       "      <td>...</td>\n",
       "      <td>...</td>\n",
       "      <td>...</td>\n",
       "      <td>...</td>\n",
       "      <td>...</td>\n",
       "      <td>...</td>\n",
       "      <td>...</td>\n",
       "      <td>...</td>\n",
       "      <td>...</td>\n",
       "    </tr>\n",
       "    <tr>\n",
       "      <th>2021-06-22</th>\n",
       "      <td>203.300003</td>\n",
       "      <td>205.899994</td>\n",
       "      <td>202.300003</td>\n",
       "      <td>202.600006</td>\n",
       "      <td>21598840</td>\n",
       "      <td>92</td>\n",
       "      <td>93</td>\n",
       "      <td>90</td>\n",
       "      <td>87</td>\n",
       "      <td>89</td>\n",
       "      <td>85</td>\n",
       "    </tr>\n",
       "    <tr>\n",
       "      <th>2021-06-23</th>\n",
       "      <td>202.600006</td>\n",
       "      <td>206.699997</td>\n",
       "      <td>202.600006</td>\n",
       "      <td>205.300003</td>\n",
       "      <td>23236417</td>\n",
       "      <td>94</td>\n",
       "      <td>89</td>\n",
       "      <td>80</td>\n",
       "      <td>86</td>\n",
       "      <td>91</td>\n",
       "      <td>88</td>\n",
       "    </tr>\n",
       "    <tr>\n",
       "      <th>2021-06-24</th>\n",
       "      <td>205.699997</td>\n",
       "      <td>206.121002</td>\n",
       "      <td>201.199997</td>\n",
       "      <td>202.699997</td>\n",
       "      <td>32798265</td>\n",
       "      <td>93</td>\n",
       "      <td>87</td>\n",
       "      <td>88</td>\n",
       "      <td>90</td>\n",
       "      <td>90</td>\n",
       "      <td>95</td>\n",
       "    </tr>\n",
       "    <tr>\n",
       "      <th>2021-06-25</th>\n",
       "      <td>203.000000</td>\n",
       "      <td>204.699997</td>\n",
       "      <td>201.841003</td>\n",
       "      <td>204.199997</td>\n",
       "      <td>16365919</td>\n",
       "      <td>92</td>\n",
       "      <td>88</td>\n",
       "      <td>88</td>\n",
       "      <td>80</td>\n",
       "      <td>81</td>\n",
       "      <td>82</td>\n",
       "    </tr>\n",
       "    <tr>\n",
       "      <th>2021-06-28</th>\n",
       "      <td>204.300003</td>\n",
       "      <td>204.300003</td>\n",
       "      <td>199.449997</td>\n",
       "      <td>199.850006</td>\n",
       "      <td>17933067</td>\n",
       "      <td>96</td>\n",
       "      <td>98</td>\n",
       "      <td>82</td>\n",
       "      <td>83</td>\n",
       "      <td>90</td>\n",
       "      <td>86</td>\n",
       "    </tr>\n",
       "  </tbody>\n",
       "</table>\n",
       "<p>1134 rows × 11 columns</p>\n",
       "</div>"
      ],
      "text/plain": [
       "                  Open        High         Low       Close    Volume  network  \\\n",
       "Date                                                                            \n",
       "2017-01-03  304.285206  308.339622  302.278470  304.244263  14324026       92   \n",
       "2017-01-04  305.104266  311.902552  299.411707  311.697784  22025318       95   \n",
       "2017-01-05  313.376907  316.202690  307.416515  314.851227  18310312       94   \n",
       "2017-01-06  315.506507  315.547451  312.557843  314.974091  12651601       92   \n",
       "2017-01-09  316.366531  316.898922  311.943547  316.120819  13307527       93   \n",
       "...                ...         ...         ...         ...       ...      ...   \n",
       "2021-06-22  203.300003  205.899994  202.300003  202.600006  21598840       92   \n",
       "2021-06-23  202.600006  206.699997  202.600006  205.300003  23236417       94   \n",
       "2021-06-24  205.699997  206.121002  201.199997  202.699997  32798265       93   \n",
       "2021-06-25  203.000000  204.699997  201.841003  204.199997  16365919       92   \n",
       "2021-06-28  204.300003  204.300003  199.449997  199.850006  17933067       96   \n",
       "\n",
       "            BT  EE  data  services  communications  \n",
       "Date                                                \n",
       "2017-01-03  91  95    83        91              85  \n",
       "2017-01-04  93  94    87        94              93  \n",
       "2017-01-05  85  90    92        94              81  \n",
       "2017-01-06  88  80    85        87              83  \n",
       "2017-01-09  86  94    92        99              85  \n",
       "...         ..  ..   ...       ...             ...  \n",
       "2021-06-22  93  90    87        89              85  \n",
       "2021-06-23  89  80    86        91              88  \n",
       "2021-06-24  87  88    90        90              95  \n",
       "2021-06-25  88  88    80        81              82  \n",
       "2021-06-28  98  82    83        90              86  \n",
       "\n",
       "[1134 rows x 11 columns]"
      ]
     },
     "execution_count": 6,
     "metadata": {},
     "output_type": "execute_result"
    }
   ],
   "source": [
    "#Get all data except last row (actual_price)\n",
    "df = df.head(len(df)-1)\n",
    "df"
   ]
  },
  {
   "cell_type": "code",
   "execution_count": 7,
   "metadata": {},
   "outputs": [],
   "source": [
    "#Convert to OneHotEncoder\n",
    "df = pd.get_dummies(df)"
   ]
  },
  {
   "cell_type": "code",
   "execution_count": 8,
   "metadata": {},
   "outputs": [
    {
     "data": {
      "text/plain": [
       "['Open',\n",
       " 'High',\n",
       " 'Low',\n",
       " 'Volume',\n",
       " 'network',\n",
       " 'BT',\n",
       " 'EE',\n",
       " 'data',\n",
       " 'services',\n",
       " 'communications']"
      ]
     },
     "execution_count": 8,
     "metadata": {},
     "output_type": "execute_result"
    }
   ],
   "source": [
    "#Save Feature Columns\n",
    "feature_list = list(df.columns)\n",
    "feature_list.remove('Close')\n",
    "feature_list"
   ]
  },
  {
   "cell_type": "code",
   "execution_count": 9,
   "metadata": {},
   "outputs": [],
   "source": [
    "y = df.iloc[:, 3]\n",
    "X = df.iloc[:, [0, 1, 2, 4, 5, 6, 7, 8, 9, 10]]"
   ]
  },
  {
   "cell_type": "code",
   "execution_count": 10,
   "metadata": {},
   "outputs": [],
   "source": [
    "from sklearn.preprocessing import StandardScaler\n",
    "scaler = StandardScaler()"
   ]
  },
  {
   "cell_type": "code",
   "execution_count": 11,
   "metadata": {},
   "outputs": [
    {
     "name": "stdout",
     "output_type": "stream",
     "text": [
      "(1134,)\n"
     ]
    }
   ],
   "source": [
    "print(y.shape)"
   ]
  },
  {
   "cell_type": "code",
   "execution_count": 12,
   "metadata": {},
   "outputs": [],
   "source": [
    "#Save for Later\n",
    "tab_y = y"
   ]
  },
  {
   "cell_type": "code",
   "execution_count": 13,
   "metadata": {},
   "outputs": [
    {
     "name": "stdout",
     "output_type": "stream",
     "text": [
      "(1134, 1)\n"
     ]
    }
   ],
   "source": [
    "y = y.values.reshape(-1,1)\n",
    "print(y.shape)"
   ]
  },
  {
   "cell_type": "code",
   "execution_count": 14,
   "metadata": {},
   "outputs": [],
   "source": [
    "X_train, X_test, y_train, y_test = train_test_split(X, y, test_size = 0.3, shuffle=False)"
   ]
  },
  {
   "cell_type": "code",
   "execution_count": 15,
   "metadata": {},
   "outputs": [],
   "source": [
    "#Scale Features\n",
    "X_train = scaler.fit_transform(X_train)\n",
    "X_test = scaler.fit_transform(X_test)"
   ]
  },
  {
   "cell_type": "code",
   "execution_count": 16,
   "metadata": {},
   "outputs": [],
   "source": [
    "model = SVR(kernel='rbf', C=1000, gamma=0.1, epsilon=0.1)"
   ]
  },
  {
   "cell_type": "code",
   "execution_count": 17,
   "metadata": {},
   "outputs": [
    {
     "data": {
      "text/plain": [
       "SVR(C=1, gamma=0.1)"
      ]
     },
     "execution_count": 17,
     "metadata": {},
     "output_type": "execute_result"
    }
   ],
   "source": [
    "model.fit(X_train, np.ravel(y_train))"
   ]
  },
  {
   "cell_type": "code",
   "execution_count": 18,
   "metadata": {},
   "outputs": [],
   "source": [
    "y_pred = model.predict(X_test)"
   ]
  },
  {
   "cell_type": "code",
   "execution_count": 19,
   "metadata": {},
   "outputs": [
    {
     "data": {
      "text/plain": [
       "195.5"
      ]
     },
     "execution_count": 19,
     "metadata": {},
     "output_type": "execute_result"
    }
   ],
   "source": [
    "actual_price = compare_price.iloc[0,3]\n",
    "actual_price"
   ]
  },
  {
   "cell_type": "code",
   "execution_count": 20,
   "metadata": {},
   "outputs": [
    {
     "name": "stdout",
     "output_type": "stream",
     "text": [
      "236.7750228627341\n"
     ]
    }
   ],
   "source": [
    "next_day_price = y_pred[-1]\n",
    "print(next_day_price)"
   ]
  },
  {
   "cell_type": "code",
   "execution_count": 21,
   "metadata": {},
   "outputs": [
    {
     "name": "stdout",
     "output_type": "stream",
     "text": [
      "R-squared score:  -9.937932583053922\n",
      "Mean Absolute Error: 81.46752593278204\n",
      "Mean Squared Error: 6735.025112768441\n",
      "Root Mean Squared Error: 82.0671987627727\n",
      "Mean Absolute Percentage Error (MAPE): 68.33\n",
      "Accuracy: 31.67\n"
     ]
    }
   ],
   "source": [
    "#Model Evaluation Scores\n",
    "from sklearn import metrics\n",
    "\n",
    "print('R-squared score: ', model.score(X_test, y_test))\n",
    "print('Mean Absolute Error:', metrics.mean_absolute_error(y_test, y_pred))\n",
    "print('Mean Squared Error:', metrics.mean_squared_error(y_test, y_pred))\n",
    "print('Root Mean Squared Error:', np.sqrt(metrics.mean_squared_error(y_test, y_pred)))\n",
    "mape = np.mean(np.abs((y_test - y_pred) / np.abs(y_test)))\n",
    "print('Mean Absolute Percentage Error (MAPE):', round(mape * 100, 2))\n",
    "print('Accuracy:', round(100*(1 - mape), 2))"
   ]
  },
  {
   "cell_type": "code",
   "execution_count": 22,
   "metadata": {},
   "outputs": [],
   "source": [
    "dates = df.index"
   ]
  },
  {
   "cell_type": "code",
   "execution_count": 23,
   "metadata": {},
   "outputs": [
    {
     "data": {
      "text/html": [
       "<div>\n",
       "<style scoped>\n",
       "    .dataframe tbody tr th:only-of-type {\n",
       "        vertical-align: middle;\n",
       "    }\n",
       "\n",
       "    .dataframe tbody tr th {\n",
       "        vertical-align: top;\n",
       "    }\n",
       "\n",
       "    .dataframe thead th {\n",
       "        text-align: right;\n",
       "    }\n",
       "</style>\n",
       "<table border=\"1\" class=\"dataframe\">\n",
       "  <thead>\n",
       "    <tr style=\"text-align: right;\">\n",
       "      <th></th>\n",
       "      <th>date</th>\n",
       "      <th>actual</th>\n",
       "    </tr>\n",
       "    <tr>\n",
       "      <th>Date</th>\n",
       "      <th></th>\n",
       "      <th></th>\n",
       "    </tr>\n",
       "  </thead>\n",
       "  <tbody>\n",
       "    <tr>\n",
       "      <th>2017-01-03</th>\n",
       "      <td>2017-01-03</td>\n",
       "      <td>304.244263</td>\n",
       "    </tr>\n",
       "    <tr>\n",
       "      <th>2017-01-04</th>\n",
       "      <td>2017-01-04</td>\n",
       "      <td>311.697784</td>\n",
       "    </tr>\n",
       "    <tr>\n",
       "      <th>2017-01-05</th>\n",
       "      <td>2017-01-05</td>\n",
       "      <td>314.851227</td>\n",
       "    </tr>\n",
       "    <tr>\n",
       "      <th>2017-01-06</th>\n",
       "      <td>2017-01-06</td>\n",
       "      <td>314.974091</td>\n",
       "    </tr>\n",
       "    <tr>\n",
       "      <th>2017-01-09</th>\n",
       "      <td>2017-01-09</td>\n",
       "      <td>316.120819</td>\n",
       "    </tr>\n",
       "    <tr>\n",
       "      <th>...</th>\n",
       "      <td>...</td>\n",
       "      <td>...</td>\n",
       "    </tr>\n",
       "    <tr>\n",
       "      <th>2021-06-22</th>\n",
       "      <td>2021-06-22</td>\n",
       "      <td>202.600006</td>\n",
       "    </tr>\n",
       "    <tr>\n",
       "      <th>2021-06-23</th>\n",
       "      <td>2021-06-23</td>\n",
       "      <td>205.300003</td>\n",
       "    </tr>\n",
       "    <tr>\n",
       "      <th>2021-06-24</th>\n",
       "      <td>2021-06-24</td>\n",
       "      <td>202.699997</td>\n",
       "    </tr>\n",
       "    <tr>\n",
       "      <th>2021-06-25</th>\n",
       "      <td>2021-06-25</td>\n",
       "      <td>204.199997</td>\n",
       "    </tr>\n",
       "    <tr>\n",
       "      <th>2021-06-28</th>\n",
       "      <td>2021-06-28</td>\n",
       "      <td>199.850006</td>\n",
       "    </tr>\n",
       "  </tbody>\n",
       "</table>\n",
       "<p>1134 rows × 2 columns</p>\n",
       "</div>"
      ],
      "text/plain": [
       "                 date      actual\n",
       "Date                             \n",
       "2017-01-03 2017-01-03  304.244263\n",
       "2017-01-04 2017-01-04  311.697784\n",
       "2017-01-05 2017-01-05  314.851227\n",
       "2017-01-06 2017-01-06  314.974091\n",
       "2017-01-09 2017-01-09  316.120819\n",
       "...               ...         ...\n",
       "2021-06-22 2021-06-22  202.600006\n",
       "2021-06-23 2021-06-23  205.300003\n",
       "2021-06-24 2021-06-24  202.699997\n",
       "2021-06-25 2021-06-25  204.199997\n",
       "2021-06-28 2021-06-28  199.850006\n",
       "\n",
       "[1134 rows x 2 columns]"
      ]
     },
     "execution_count": 23,
     "metadata": {},
     "output_type": "execute_result"
    }
   ],
   "source": [
    "true_data =pd.DataFrame(data = {'date': dates, 'actual': tab_y})\n",
    "true_data"
   ]
  },
  {
   "cell_type": "code",
   "execution_count": 24,
   "metadata": {},
   "outputs": [
    {
     "data": {
      "text/plain": [
       "(1134,)"
      ]
     },
     "execution_count": 24,
     "metadata": {},
     "output_type": "execute_result"
    }
   ],
   "source": [
    "tab_y.shape"
   ]
  },
  {
   "cell_type": "code",
   "execution_count": 25,
   "metadata": {},
   "outputs": [],
   "source": [
    "test_dates = table_dates[1-(len(y_pred)+1):]"
   ]
  },
  {
   "cell_type": "code",
   "execution_count": 26,
   "metadata": {},
   "outputs": [
    {
     "data": {
      "text/html": [
       "<div>\n",
       "<style scoped>\n",
       "    .dataframe tbody tr th:only-of-type {\n",
       "        vertical-align: middle;\n",
       "    }\n",
       "\n",
       "    .dataframe tbody tr th {\n",
       "        vertical-align: top;\n",
       "    }\n",
       "\n",
       "    .dataframe thead th {\n",
       "        text-align: right;\n",
       "    }\n",
       "</style>\n",
       "<table border=\"1\" class=\"dataframe\">\n",
       "  <thead>\n",
       "    <tr style=\"text-align: right;\">\n",
       "      <th></th>\n",
       "      <th>date</th>\n",
       "      <th>predictions</th>\n",
       "    </tr>\n",
       "    <tr>\n",
       "      <th>Date</th>\n",
       "      <th></th>\n",
       "      <th></th>\n",
       "    </tr>\n",
       "  </thead>\n",
       "  <tbody>\n",
       "    <tr>\n",
       "      <th>2020-02-21</th>\n",
       "      <td>2020-02-21</td>\n",
       "      <td>251.113770</td>\n",
       "    </tr>\n",
       "    <tr>\n",
       "      <th>2020-02-24</th>\n",
       "      <td>2020-02-24</td>\n",
       "      <td>243.954782</td>\n",
       "    </tr>\n",
       "    <tr>\n",
       "      <th>2020-02-25</th>\n",
       "      <td>2020-02-25</td>\n",
       "      <td>237.644828</td>\n",
       "    </tr>\n",
       "    <tr>\n",
       "      <th>2020-02-26</th>\n",
       "      <td>2020-02-26</td>\n",
       "      <td>241.934067</td>\n",
       "    </tr>\n",
       "    <tr>\n",
       "      <th>2020-02-27</th>\n",
       "      <td>2020-02-27</td>\n",
       "      <td>238.303614</td>\n",
       "    </tr>\n",
       "    <tr>\n",
       "      <th>...</th>\n",
       "      <td>...</td>\n",
       "      <td>...</td>\n",
       "    </tr>\n",
       "    <tr>\n",
       "      <th>2021-06-23</th>\n",
       "      <td>2021-06-23</td>\n",
       "      <td>247.076981</td>\n",
       "    </tr>\n",
       "    <tr>\n",
       "      <th>2021-06-24</th>\n",
       "      <td>2021-06-24</td>\n",
       "      <td>242.413433</td>\n",
       "    </tr>\n",
       "    <tr>\n",
       "      <th>2021-06-25</th>\n",
       "      <td>2021-06-25</td>\n",
       "      <td>245.150862</td>\n",
       "    </tr>\n",
       "    <tr>\n",
       "      <th>2021-06-28</th>\n",
       "      <td>2021-06-28</td>\n",
       "      <td>234.971295</td>\n",
       "    </tr>\n",
       "    <tr>\n",
       "      <th>2021-06-29</th>\n",
       "      <td>2021-06-29</td>\n",
       "      <td>236.775023</td>\n",
       "    </tr>\n",
       "  </tbody>\n",
       "</table>\n",
       "<p>341 rows × 2 columns</p>\n",
       "</div>"
      ],
      "text/plain": [
       "                 date  predictions\n",
       "Date                              \n",
       "2020-02-21 2020-02-21   251.113770\n",
       "2020-02-24 2020-02-24   243.954782\n",
       "2020-02-25 2020-02-25   237.644828\n",
       "2020-02-26 2020-02-26   241.934067\n",
       "2020-02-27 2020-02-27   238.303614\n",
       "...               ...          ...\n",
       "2021-06-23 2021-06-23   247.076981\n",
       "2021-06-24 2021-06-24   242.413433\n",
       "2021-06-25 2021-06-25   245.150862\n",
       "2021-06-28 2021-06-28   234.971295\n",
       "2021-06-29 2021-06-29   236.775023\n",
       "\n",
       "[341 rows x 2 columns]"
      ]
     },
     "execution_count": 26,
     "metadata": {},
     "output_type": "execute_result"
    }
   ],
   "source": [
    "predictions_data = pd.DataFrame(data = {'date': test_dates, 'predictions':y_pred})\n",
    "predictions_data"
   ]
  },
  {
   "cell_type": "code",
   "execution_count": 27,
   "metadata": {},
   "outputs": [
    {
     "data": {
      "image/png": "[encoded data removed]",
      "text/plain": [
       "<Figure size 432x288 with 1 Axes>"
      ]
     },
     "metadata": {
      "needs_background": "light"
     },
     "output_type": "display_data"
    }
   ],
   "source": [
    "plt.plot(true_data['date'], true_data['actual'], label = 'actual')\n",
    "plt.plot(predictions_data['date'], predictions_data['predictions'], label='predictions')\n",
    "plt.xticks(rotation='60')\n",
    "plt.ylabel(\"Close Price in GBp\")\n",
    "plt.title(\"Actual vs Predicted Closing Prices (SVR rbf)\")\n",
    "plt.legend()\n",
    "plt.show()"
   ]
  },
  {
   "cell_type": "code",
   "execution_count": 28,
   "metadata": {},
   "outputs": [
    {
     "name": "stdout",
     "output_type": "stream",
     "text": [
      "0.6655500000000001\n"
     ]
    }
   ],
   "source": [
    "print(time.process_time() - start)"
   ]
  }
 ],
 "metadata": {
  "kernelspec": {
   "display_name": "Python 3",
   "language": "python",
   "name": "python3"
  },
  "language_info": {
   "codemirror_mode": {
    "name": "ipython",
    "version": 3
   },
   "file_extension": ".py",
   "mimetype": "text/x-python",
   "name": "python",
   "nbconvert_exporter": "python",
   "pygments_lexer": "ipython3",
   "version": "3.8.5"
  }
 },
 "nbformat": 4,
 "nbformat_minor": 4
}
