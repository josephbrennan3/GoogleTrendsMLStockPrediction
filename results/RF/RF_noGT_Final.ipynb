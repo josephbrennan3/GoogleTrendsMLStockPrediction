{
 "cells": [
  {
   "cell_type": "code",
   "execution_count": 1,
   "metadata": {},
   "outputs": [],
   "source": [
    "#Required Libraries\n",
    "import pandas as pd\n",
    "import numpy as np\n",
    "import matplotlib.pyplot as plt\n",
    "import time\n",
    "from sklearn.model_selection import train_test_split\n",
    "from sklearn.ensemble import RandomForestRegressor\n",
    "from sklearn.metrics import accuracy_score, mean_squared_error\n",
    "import datetime as dt"
   ]
  },
  {
   "cell_type": "code",
   "execution_count": 2,
   "metadata": {},
   "outputs": [],
   "source": [
    "start = time.process_time()"
   ]
  },
  {
   "cell_type": "code",
   "execution_count": 3,
   "metadata": {},
   "outputs": [
    {
     "data": {
      "text/html": [
       "<div>\n",
       "<style scoped>\n",
       "    .dataframe tbody tr th:only-of-type {\n",
       "        vertical-align: middle;\n",
       "    }\n",
       "\n",
       "    .dataframe tbody tr th {\n",
       "        vertical-align: top;\n",
       "    }\n",
       "\n",
       "    .dataframe thead th {\n",
       "        text-align: right;\n",
       "    }\n",
       "</style>\n",
       "<table border=\"1\" class=\"dataframe\">\n",
       "  <thead>\n",
       "    <tr style=\"text-align: right;\">\n",
       "      <th></th>\n",
       "      <th>Open</th>\n",
       "      <th>High</th>\n",
       "      <th>Low</th>\n",
       "      <th>Close</th>\n",
       "      <th>Volume</th>\n",
       "      <th>Pearson</th>\n",
       "      <th>education</th>\n",
       "      <th>Edexcel</th>\n",
       "      <th>publisher</th>\n",
       "      <th>penguin</th>\n",
       "      <th>books</th>\n",
       "    </tr>\n",
       "    <tr>\n",
       "      <th>Date</th>\n",
       "      <th></th>\n",
       "      <th></th>\n",
       "      <th></th>\n",
       "      <th></th>\n",
       "      <th></th>\n",
       "      <th></th>\n",
       "      <th></th>\n",
       "      <th></th>\n",
       "      <th></th>\n",
       "      <th></th>\n",
       "      <th></th>\n",
       "    </tr>\n",
       "  </thead>\n",
       "  <tbody>\n",
       "    <tr>\n",
       "      <th>2017-01-03</th>\n",
       "      <td>698.932507</td>\n",
       "      <td>704.052891</td>\n",
       "      <td>695.518917</td>\n",
       "      <td>696.372314</td>\n",
       "      <td>2289306</td>\n",
       "      <td>58</td>\n",
       "      <td>72</td>\n",
       "      <td>72</td>\n",
       "      <td>67</td>\n",
       "      <td>61</td>\n",
       "      <td>99</td>\n",
       "    </tr>\n",
       "    <tr>\n",
       "      <th>2017-01-04</th>\n",
       "      <td>697.225697</td>\n",
       "      <td>698.688411</td>\n",
       "      <td>684.424736</td>\n",
       "      <td>686.131531</td>\n",
       "      <td>3337718</td>\n",
       "      <td>71</td>\n",
       "      <td>76</td>\n",
       "      <td>83</td>\n",
       "      <td>89</td>\n",
       "      <td>65</td>\n",
       "      <td>100</td>\n",
       "    </tr>\n",
       "    <tr>\n",
       "      <th>2017-01-05</th>\n",
       "      <td>687.838354</td>\n",
       "      <td>695.945629</td>\n",
       "      <td>686.558257</td>\n",
       "      <td>693.385437</td>\n",
       "      <td>3200061</td>\n",
       "      <td>76</td>\n",
       "      <td>79</td>\n",
       "      <td>85</td>\n",
       "      <td>86</td>\n",
       "      <td>67</td>\n",
       "      <td>99</td>\n",
       "    </tr>\n",
       "    <tr>\n",
       "      <th>2017-01-06</th>\n",
       "      <td>692.958673</td>\n",
       "      <td>695.518866</td>\n",
       "      <td>689.545084</td>\n",
       "      <td>694.238770</td>\n",
       "      <td>1244707</td>\n",
       "      <td>66</td>\n",
       "      <td>70</td>\n",
       "      <td>74</td>\n",
       "      <td>71</td>\n",
       "      <td>73</td>\n",
       "      <td>92</td>\n",
       "    </tr>\n",
       "    <tr>\n",
       "      <th>2017-01-09</th>\n",
       "      <td>695.945545</td>\n",
       "      <td>701.065929</td>\n",
       "      <td>694.347144</td>\n",
       "      <td>698.505737</td>\n",
       "      <td>1714753</td>\n",
       "      <td>80</td>\n",
       "      <td>87</td>\n",
       "      <td>99</td>\n",
       "      <td>79</td>\n",
       "      <td>64</td>\n",
       "      <td>96</td>\n",
       "    </tr>\n",
       "  </tbody>\n",
       "</table>\n",
       "</div>"
      ],
      "text/plain": [
       "                  Open        High         Low       Close   Volume  Pearson  \\\n",
       "Date                                                                           \n",
       "2017-01-03  698.932507  704.052891  695.518917  696.372314  2289306       58   \n",
       "2017-01-04  697.225697  698.688411  684.424736  686.131531  3337718       71   \n",
       "2017-01-05  687.838354  695.945629  686.558257  693.385437  3200061       76   \n",
       "2017-01-06  692.958673  695.518866  689.545084  694.238770  1244707       66   \n",
       "2017-01-09  695.945545  701.065929  694.347144  698.505737  1714753       80   \n",
       "\n",
       "            education  Edexcel  publisher  penguin  books  \n",
       "Date                                                       \n",
       "2017-01-03         72       72         67       61     99  \n",
       "2017-01-04         76       83         89       65    100  \n",
       "2017-01-05         79       85         86       67     99  \n",
       "2017-01-06         70       74         71       73     92  \n",
       "2017-01-09         87       99         79       64     96  "
      ]
     },
     "execution_count": 3,
     "metadata": {},
     "output_type": "execute_result"
    }
   ],
   "source": [
    "#Load DataFrame, Change Date back to Datetime Index\n",
    "df = pd.read_csv('/Users/josephbrennan/Desktop/Data/Merged/pson_merged.csv')\n",
    "df.drop('Unnamed: 0', axis=1, inplace=True)\n",
    "df['Date'] = pd.to_datetime(df.Date)\n",
    "df.index = pd.DatetimeIndex(df.Date)\n",
    "table_dates = df.Date\n",
    "df.drop('Date', axis=1, inplace=True)\n",
    "df.head()"
   ]
  },
  {
   "cell_type": "code",
   "execution_count": 4,
   "metadata": {},
   "outputs": [
    {
     "data": {
      "text/plain": [
       "Open         0\n",
       "High         0\n",
       "Low          0\n",
       "Close        0\n",
       "Volume       0\n",
       "Pearson      0\n",
       "education    0\n",
       "Edexcel      0\n",
       "publisher    0\n",
       "penguin      0\n",
       "books        0\n",
       "dtype: int64"
      ]
     },
     "execution_count": 4,
     "metadata": {},
     "output_type": "execute_result"
    }
   ],
   "source": [
    "#Check for Null\n",
    "df.isna().sum()"
   ]
  },
  {
   "cell_type": "code",
   "execution_count": 5,
   "metadata": {
    "scrolled": false
   },
   "outputs": [
    {
     "name": "stderr",
     "output_type": "stream",
     "text": [
      "/Users/josephbrennan/opt/anaconda3/lib/python3.8/site-packages/pandas/core/frame.py:4308: SettingWithCopyWarning: \n",
      "A value is trying to be set on a copy of a slice from a DataFrame\n",
      "\n",
      "See the caveats in the documentation: https://pandas.pydata.org/pandas-docs/stable/user_guide/indexing.html#returning-a-view-versus-a-copy\n",
      "  return super().drop(\n"
     ]
    },
    {
     "data": {
      "text/html": [
       "<div>\n",
       "<style scoped>\n",
       "    .dataframe tbody tr th:only-of-type {\n",
       "        vertical-align: middle;\n",
       "    }\n",
       "\n",
       "    .dataframe tbody tr th {\n",
       "        vertical-align: top;\n",
       "    }\n",
       "\n",
       "    .dataframe thead th {\n",
       "        text-align: right;\n",
       "    }\n",
       "</style>\n",
       "<table border=\"1\" class=\"dataframe\">\n",
       "  <thead>\n",
       "    <tr style=\"text-align: right;\">\n",
       "      <th></th>\n",
       "      <th>Open</th>\n",
       "      <th>High</th>\n",
       "      <th>Low</th>\n",
       "      <th>Close</th>\n",
       "      <th>Volume</th>\n",
       "    </tr>\n",
       "    <tr>\n",
       "      <th>Date</th>\n",
       "      <th></th>\n",
       "      <th></th>\n",
       "      <th></th>\n",
       "      <th></th>\n",
       "      <th></th>\n",
       "    </tr>\n",
       "  </thead>\n",
       "  <tbody>\n",
       "    <tr>\n",
       "      <th>2021-06-29</th>\n",
       "      <td>834.400024</td>\n",
       "      <td>839.400024</td>\n",
       "      <td>823.400024</td>\n",
       "      <td>830.799988</td>\n",
       "      <td>1882235</td>\n",
       "    </tr>\n",
       "  </tbody>\n",
       "</table>\n",
       "</div>"
      ],
      "text/plain": [
       "                  Open        High         Low       Close   Volume\n",
       "Date                                                               \n",
       "2021-06-29  834.400024  839.400024  823.400024  830.799988  1882235"
      ]
     },
     "execution_count": 5,
     "metadata": {},
     "output_type": "execute_result"
    }
   ],
   "source": [
    "#Last row of data used to predict\n",
    "compare_price = df.tail(1)\n",
    "compare_price.drop(df.iloc[:, 5:11], axis=1, inplace=True)\n",
    "compare_price"
   ]
  },
  {
   "cell_type": "code",
   "execution_count": 6,
   "metadata": {},
   "outputs": [
    {
     "data": {
      "text/plain": [
       "['Open', 'High', 'Low', 'Volume']"
      ]
     },
     "execution_count": 6,
     "metadata": {},
     "output_type": "execute_result"
    }
   ],
   "source": [
    "#Save Feature Columns\n",
    "feature_list = list(compare_price.columns)\n",
    "feature_list.remove('Close')\n",
    "feature_list"
   ]
  },
  {
   "cell_type": "code",
   "execution_count": 7,
   "metadata": {},
   "outputs": [],
   "source": [
    "df = pd.get_dummies(df)"
   ]
  },
  {
   "cell_type": "code",
   "execution_count": 8,
   "metadata": {},
   "outputs": [
    {
     "name": "stdout",
     "output_type": "stream",
     "text": [
      "(1135,)\n",
      "(1135, 4)\n"
     ]
    }
   ],
   "source": [
    "#Features (X) and Labels (y)\n",
    "y = df.iloc[:, 3].values\n",
    "X = df.iloc[:, [0, 1, 2, 4]].values\n",
    "print(y.shape)\n",
    "print(X.shape)"
   ]
  },
  {
   "cell_type": "code",
   "execution_count": 9,
   "metadata": {},
   "outputs": [
    {
     "name": "stdout",
     "output_type": "stream",
     "text": [
      "(794, 4)\n",
      "(341, 4)\n",
      "(794,)\n",
      "(341,)\n"
     ]
    }
   ],
   "source": [
    "#Model Training, Test Size Selection\n",
    "X_train, X_test, y_train, y_test = train_test_split(X, y, test_size = 0.3, random_state=50, shuffle=False)\n",
    "print(X_train.shape)\n",
    "print(X_test.shape)\n",
    "print(y_train.shape)\n",
    "print(y_test.shape)"
   ]
  },
  {
   "cell_type": "code",
   "execution_count": 10,
   "metadata": {},
   "outputs": [],
   "source": [
    "#Random Forest Regression\n",
    "model = RandomForestRegressor(n_estimators = 200, bootstrap=True)\n",
    "model.fit(X_train, y_train)\n",
    "y_pred = model.predict(X_test)"
   ]
  },
  {
   "cell_type": "code",
   "execution_count": 11,
   "metadata": {},
   "outputs": [
    {
     "name": "stdout",
     "output_type": "stream",
     "text": [
      "830.7999877929688\n"
     ]
    }
   ],
   "source": [
    "#Correct Price 29/06/2021\n",
    "actual_price = compare_price.iloc[0,3]\n",
    "print(actual_price)"
   ]
  },
  {
   "cell_type": "code",
   "execution_count": 12,
   "metadata": {},
   "outputs": [
    {
     "name": "stdout",
     "output_type": "stream",
     "text": [
      "[827.48779114]\n"
     ]
    }
   ],
   "source": [
    "#Predicted Price 29/06/2021\n",
    "compare_price.drop('Close', axis=1, inplace=True)\n",
    "next_day_price = model.predict(compare_price)\n",
    "print(next_day_price)"
   ]
  },
  {
   "cell_type": "code",
   "execution_count": 13,
   "metadata": {},
   "outputs": [
    {
     "name": "stdout",
     "output_type": "stream",
     "text": [
      "R-squared score:  0.972\n",
      "Mean Absolute Error: 12.306\n",
      "Mean Absolute Percentage Error (MAPE): 2.41\n",
      "Mean Squared Error: 489.8201599366678 3\n",
      "Root Mean Squared Error: 22.131881075423024\n",
      "Accuracy: 97.59\n"
     ]
    }
   ],
   "source": [
    "#Model Evaluation Scores\n",
    "from sklearn import metrics\n",
    "\n",
    "print('R-squared score: ', round(model.score(X_test, y_test), 3))\n",
    "print('Mean Absolute Error:', round(metrics.mean_absolute_error(y_test, y_pred), 3))\n",
    "mape = np.mean(np.abs((y_test - y_pred) / np.abs(y_test)))\n",
    "print('Mean Absolute Percentage Error (MAPE):', round(mape * 100, 2))\n",
    "print('Mean Squared Error:', metrics.mean_squared_error(y_test, y_pred), 3)\n",
    "print('Root Mean Squared Error:', np.sqrt(metrics.mean_squared_error(y_test, y_pred)))\n",
    "print('Accuracy:', round(100*(1 - mape), 2))"
   ]
  },
  {
   "cell_type": "code",
   "execution_count": 14,
   "metadata": {},
   "outputs": [],
   "source": [
    "#Check Importance of Variables\n",
    "importances = list(model.feature_importances_)"
   ]
  },
  {
   "cell_type": "code",
   "execution_count": 15,
   "metadata": {},
   "outputs": [],
   "source": [
    "#Zip features and their importance\n",
    "feature_importance = [(feature, round(importance, 2)) \n",
    "                      for feature, importance in \n",
    "                      zip(compare_price, importances)]"
   ]
  },
  {
   "cell_type": "code",
   "execution_count": 16,
   "metadata": {},
   "outputs": [],
   "source": [
    "#Sort Features\n",
    "feature_importance = sorted(feature_importance, \n",
    "                                key = lambda x: x[1], \n",
    "                                reverse = True)"
   ]
  },
  {
   "cell_type": "code",
   "execution_count": 17,
   "metadata": {},
   "outputs": [
    {
     "name": "stdout",
     "output_type": "stream",
     "text": [
      "Variable: Low \tImportance: 0.64\n",
      "Variable: High \tImportance: 0.28\n",
      "Variable: Open \tImportance: 0.08\n",
      "Variable: Volume \tImportance: 0.0\n"
     ]
    }
   ],
   "source": [
    "#Print Feature Importance\n",
    "for feature, importance in feature_importance:\n",
    "    print(f'Variable: {feature} \\tImportance: {importance}')"
   ]
  },
  {
   "cell_type": "code",
   "execution_count": 18,
   "metadata": {},
   "outputs": [
    {
     "data": {
      "text/plain": [
       "Text(0.5, 1.0, 'Variable Importances')"
      ]
     },
     "execution_count": 18,
     "metadata": {},
     "output_type": "execute_result"
    },
    {
     "data": {
      "image/png": "[encoded data removed]",
      "text/plain": [
       "<Figure size 432x288 with 1 Axes>"
      ]
     },
     "metadata": {
      "needs_background": "light"
     },
     "output_type": "display_data"
    }
   ],
   "source": [
    "%matplotlib inline\n",
    "\n",
    "x_values = list(range(len(importances)))\n",
    "\n",
    "plt.bar(x_values, importances, orientation = 'vertical')\n",
    "\n",
    "plt.xticks(x_values, compare_price, rotation='vertical')\n",
    "\n",
    "plt.ylabel('Importance'); plt.xlabel('Variable')\n",
    "plt.xticks(rotation='60')\n",
    "plt.title('Variable Importances')"
   ]
  },
  {
   "cell_type": "code",
   "execution_count": 19,
   "metadata": {},
   "outputs": [
    {
     "data": {
      "text/plain": [
       "DatetimeIndex(['2017-01-03', '2017-01-04', '2017-01-05', '2017-01-06',\n",
       "               '2017-01-09', '2017-01-10', '2017-01-11', '2017-01-12',\n",
       "               '2017-01-13', '2017-01-16',\n",
       "               ...\n",
       "               '2021-06-16', '2021-06-17', '2021-06-18', '2021-06-21',\n",
       "               '2021-06-22', '2021-06-23', '2021-06-24', '2021-06-25',\n",
       "               '2021-06-28', '2021-06-29'],\n",
       "              dtype='datetime64[ns]', name='Date', length=1135, freq=None)"
      ]
     },
     "execution_count": 19,
     "metadata": {},
     "output_type": "execute_result"
    }
   ],
   "source": [
    "dates = df.index\n",
    "dates"
   ]
  },
  {
   "cell_type": "code",
   "execution_count": 20,
   "metadata": {},
   "outputs": [
    {
     "data": {
      "text/html": [
       "<div>\n",
       "<style scoped>\n",
       "    .dataframe tbody tr th:only-of-type {\n",
       "        vertical-align: middle;\n",
       "    }\n",
       "\n",
       "    .dataframe tbody tr th {\n",
       "        vertical-align: top;\n",
       "    }\n",
       "\n",
       "    .dataframe thead th {\n",
       "        text-align: right;\n",
       "    }\n",
       "</style>\n",
       "<table border=\"1\" class=\"dataframe\">\n",
       "  <thead>\n",
       "    <tr style=\"text-align: right;\">\n",
       "      <th></th>\n",
       "      <th>date</th>\n",
       "      <th>actual</th>\n",
       "    </tr>\n",
       "  </thead>\n",
       "  <tbody>\n",
       "    <tr>\n",
       "      <th>0</th>\n",
       "      <td>2017-01-03</td>\n",
       "      <td>696.372314</td>\n",
       "    </tr>\n",
       "    <tr>\n",
       "      <th>1</th>\n",
       "      <td>2017-01-04</td>\n",
       "      <td>686.131531</td>\n",
       "    </tr>\n",
       "    <tr>\n",
       "      <th>2</th>\n",
       "      <td>2017-01-05</td>\n",
       "      <td>693.385437</td>\n",
       "    </tr>\n",
       "    <tr>\n",
       "      <th>3</th>\n",
       "      <td>2017-01-06</td>\n",
       "      <td>694.238770</td>\n",
       "    </tr>\n",
       "    <tr>\n",
       "      <th>4</th>\n",
       "      <td>2017-01-09</td>\n",
       "      <td>698.505737</td>\n",
       "    </tr>\n",
       "    <tr>\n",
       "      <th>...</th>\n",
       "      <td>...</td>\n",
       "      <td>...</td>\n",
       "    </tr>\n",
       "    <tr>\n",
       "      <th>1130</th>\n",
       "      <td>2021-06-23</td>\n",
       "      <td>845.400024</td>\n",
       "    </tr>\n",
       "    <tr>\n",
       "      <th>1131</th>\n",
       "      <td>2021-06-24</td>\n",
       "      <td>835.000000</td>\n",
       "    </tr>\n",
       "    <tr>\n",
       "      <th>1132</th>\n",
       "      <td>2021-06-25</td>\n",
       "      <td>838.000000</td>\n",
       "    </tr>\n",
       "    <tr>\n",
       "      <th>1133</th>\n",
       "      <td>2021-06-28</td>\n",
       "      <td>833.400024</td>\n",
       "    </tr>\n",
       "    <tr>\n",
       "      <th>1134</th>\n",
       "      <td>2021-06-29</td>\n",
       "      <td>830.799988</td>\n",
       "    </tr>\n",
       "  </tbody>\n",
       "</table>\n",
       "<p>1135 rows × 2 columns</p>\n",
       "</div>"
      ],
      "text/plain": [
       "           date      actual\n",
       "0    2017-01-03  696.372314\n",
       "1    2017-01-04  686.131531\n",
       "2    2017-01-05  693.385437\n",
       "3    2017-01-06  694.238770\n",
       "4    2017-01-09  698.505737\n",
       "...         ...         ...\n",
       "1130 2021-06-23  845.400024\n",
       "1131 2021-06-24  835.000000\n",
       "1132 2021-06-25  838.000000\n",
       "1133 2021-06-28  833.400024\n",
       "1134 2021-06-29  830.799988\n",
       "\n",
       "[1135 rows x 2 columns]"
      ]
     },
     "execution_count": 20,
     "metadata": {},
     "output_type": "execute_result"
    }
   ],
   "source": [
    "true_data =pd.DataFrame(data = {'date': dates, 'actual': y})\n",
    "true_data"
   ]
  },
  {
   "cell_type": "code",
   "execution_count": 21,
   "metadata": {},
   "outputs": [],
   "source": [
    "test_dates = table_dates[1-(len(y_pred)+1):]"
   ]
  },
  {
   "cell_type": "code",
   "execution_count": 22,
   "metadata": {},
   "outputs": [
    {
     "data": {
      "text/html": [
       "<div>\n",
       "<style scoped>\n",
       "    .dataframe tbody tr th:only-of-type {\n",
       "        vertical-align: middle;\n",
       "    }\n",
       "\n",
       "    .dataframe tbody tr th {\n",
       "        vertical-align: top;\n",
       "    }\n",
       "\n",
       "    .dataframe thead th {\n",
       "        text-align: right;\n",
       "    }\n",
       "</style>\n",
       "<table border=\"1\" class=\"dataframe\">\n",
       "  <thead>\n",
       "    <tr style=\"text-align: right;\">\n",
       "      <th></th>\n",
       "      <th>date</th>\n",
       "      <th>predictions</th>\n",
       "    </tr>\n",
       "    <tr>\n",
       "      <th>Date</th>\n",
       "      <th></th>\n",
       "      <th></th>\n",
       "    </tr>\n",
       "  </thead>\n",
       "  <tbody>\n",
       "    <tr>\n",
       "      <th>2020-02-21</th>\n",
       "      <td>2020-02-21</td>\n",
       "      <td>533.302921</td>\n",
       "    </tr>\n",
       "    <tr>\n",
       "      <th>2020-02-24</th>\n",
       "      <td>2020-02-24</td>\n",
       "      <td>535.168131</td>\n",
       "    </tr>\n",
       "    <tr>\n",
       "      <th>2020-02-25</th>\n",
       "      <td>2020-02-25</td>\n",
       "      <td>561.973411</td>\n",
       "    </tr>\n",
       "    <tr>\n",
       "      <th>2020-02-26</th>\n",
       "      <td>2020-02-26</td>\n",
       "      <td>549.898884</td>\n",
       "    </tr>\n",
       "    <tr>\n",
       "      <th>2020-02-27</th>\n",
       "      <td>2020-02-27</td>\n",
       "      <td>544.786595</td>\n",
       "    </tr>\n",
       "    <tr>\n",
       "      <th>...</th>\n",
       "      <td>...</td>\n",
       "      <td>...</td>\n",
       "    </tr>\n",
       "    <tr>\n",
       "      <th>2021-06-23</th>\n",
       "      <td>2021-06-23</td>\n",
       "      <td>848.305602</td>\n",
       "    </tr>\n",
       "    <tr>\n",
       "      <th>2021-06-24</th>\n",
       "      <td>2021-06-24</td>\n",
       "      <td>835.915016</td>\n",
       "    </tr>\n",
       "    <tr>\n",
       "      <th>2021-06-25</th>\n",
       "      <td>2021-06-25</td>\n",
       "      <td>833.642065</td>\n",
       "    </tr>\n",
       "    <tr>\n",
       "      <th>2021-06-28</th>\n",
       "      <td>2021-06-28</td>\n",
       "      <td>833.242441</td>\n",
       "    </tr>\n",
       "    <tr>\n",
       "      <th>2021-06-29</th>\n",
       "      <td>2021-06-29</td>\n",
       "      <td>827.487791</td>\n",
       "    </tr>\n",
       "  </tbody>\n",
       "</table>\n",
       "<p>341 rows × 2 columns</p>\n",
       "</div>"
      ],
      "text/plain": [
       "                 date  predictions\n",
       "Date                              \n",
       "2020-02-21 2020-02-21   533.302921\n",
       "2020-02-24 2020-02-24   535.168131\n",
       "2020-02-25 2020-02-25   561.973411\n",
       "2020-02-26 2020-02-26   549.898884\n",
       "2020-02-27 2020-02-27   544.786595\n",
       "...               ...          ...\n",
       "2021-06-23 2021-06-23   848.305602\n",
       "2021-06-24 2021-06-24   835.915016\n",
       "2021-06-25 2021-06-25   833.642065\n",
       "2021-06-28 2021-06-28   833.242441\n",
       "2021-06-29 2021-06-29   827.487791\n",
       "\n",
       "[341 rows x 2 columns]"
      ]
     },
     "execution_count": 22,
     "metadata": {},
     "output_type": "execute_result"
    }
   ],
   "source": [
    "predictions_data = pd.DataFrame(data = {'date': test_dates, 'predictions':y_pred})\n",
    "predictions_data"
   ]
  },
  {
   "cell_type": "code",
   "execution_count": 23,
   "metadata": {},
   "outputs": [
    {
     "data": {
      "image/png": "[encoded data removed]",
      "text/plain": [
       "<Figure size 432x288 with 1 Axes>"
      ]
     },
     "metadata": {
      "needs_background": "light"
     },
     "output_type": "display_data"
    }
   ],
   "source": [
    "plt.plot(true_data['date'], true_data['actual'], label = 'actual')\n",
    "plt.plot(predictions_data['date'], predictions_data['predictions'], label='predictions')\n",
    "plt.xticks(rotation='60')\n",
    "plt.ylabel(\"Close Price in GBp\")\n",
    "plt.title(\"Actual vs Predicted Closing Prices\")\n",
    "plt.legend()\n",
    "plt.show()"
   ]
  },
  {
   "cell_type": "code",
   "execution_count": null,
   "metadata": {},
   "outputs": [],
   "source": []
  }
 ],
 "metadata": {
  "kernelspec": {
   "display_name": "Python 3",
   "language": "python",
   "name": "python3"
  },
  "language_info": {
   "codemirror_mode": {
    "name": "ipython",
    "version": 3
   },
   "file_extension": ".py",
   "mimetype": "text/x-python",
   "name": "python",
   "nbconvert_exporter": "python",
   "pygments_lexer": "ipython3",
   "version": "3.8.5"
  }
 },
 "nbformat": 4,
 "nbformat_minor": 4
}
