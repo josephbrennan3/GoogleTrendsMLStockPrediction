{
 "cells": [
  {
   "cell_type": "code",
   "execution_count": 1,
   "metadata": {},
   "outputs": [],
   "source": [
    "#Required Libraries\n",
    "import pandas as pd\n",
    "import numpy as np\n",
    "import matplotlib.pyplot as plt\n",
    "import time\n",
    "from sklearn.model_selection import train_test_split\n",
    "from sklearn.ensemble import RandomForestRegressor\n",
    "from sklearn.metrics import accuracy_score, mean_squared_error\n",
    "import datetime as dt"
   ]
  },
  {
   "cell_type": "code",
   "execution_count": 2,
   "metadata": {},
   "outputs": [],
   "source": [
    "start = time.process_time()"
   ]
  },
  {
   "cell_type": "code",
   "execution_count": 3,
   "metadata": {},
   "outputs": [
    {
     "data": {
      "text/html": [
       "<div>\n",
       "<style scoped>\n",
       "    .dataframe tbody tr th:only-of-type {\n",
       "        vertical-align: middle;\n",
       "    }\n",
       "\n",
       "    .dataframe tbody tr th {\n",
       "        vertical-align: top;\n",
       "    }\n",
       "\n",
       "    .dataframe thead th {\n",
       "        text-align: right;\n",
       "    }\n",
       "</style>\n",
       "<table border=\"1\" class=\"dataframe\">\n",
       "  <thead>\n",
       "    <tr style=\"text-align: right;\">\n",
       "      <th></th>\n",
       "      <th>Open</th>\n",
       "      <th>High</th>\n",
       "      <th>Low</th>\n",
       "      <th>Close</th>\n",
       "      <th>Volume</th>\n",
       "      <th>government</th>\n",
       "      <th>aircraft</th>\n",
       "      <th>Airbus</th>\n",
       "      <th>defence</th>\n",
       "      <th>BAE Systems</th>\n",
       "      <th>aerospace</th>\n",
       "    </tr>\n",
       "    <tr>\n",
       "      <th>Date</th>\n",
       "      <th></th>\n",
       "      <th></th>\n",
       "      <th></th>\n",
       "      <th></th>\n",
       "      <th></th>\n",
       "      <th></th>\n",
       "      <th></th>\n",
       "      <th></th>\n",
       "      <th></th>\n",
       "      <th></th>\n",
       "      <th></th>\n",
       "    </tr>\n",
       "  </thead>\n",
       "  <tbody>\n",
       "    <tr>\n",
       "      <th>2017-01-03</th>\n",
       "      <td>475.803110</td>\n",
       "      <td>480.629515</td>\n",
       "      <td>472.585506</td>\n",
       "      <td>475.400909</td>\n",
       "      <td>6012671</td>\n",
       "      <td>68</td>\n",
       "      <td>86</td>\n",
       "      <td>91</td>\n",
       "      <td>81</td>\n",
       "      <td>64</td>\n",
       "      <td>71</td>\n",
       "    </tr>\n",
       "    <tr>\n",
       "      <th>2017-01-04</th>\n",
       "      <td>475.400868</td>\n",
       "      <td>476.607469</td>\n",
       "      <td>468.161261</td>\n",
       "      <td>470.574463</td>\n",
       "      <td>8970946</td>\n",
       "      <td>74</td>\n",
       "      <td>88</td>\n",
       "      <td>75</td>\n",
       "      <td>82</td>\n",
       "      <td>51</td>\n",
       "      <td>78</td>\n",
       "    </tr>\n",
       "    <tr>\n",
       "      <th>2017-01-05</th>\n",
       "      <td>469.769956</td>\n",
       "      <td>474.194159</td>\n",
       "      <td>468.563355</td>\n",
       "      <td>472.585358</td>\n",
       "      <td>5603166</td>\n",
       "      <td>75</td>\n",
       "      <td>80</td>\n",
       "      <td>81</td>\n",
       "      <td>85</td>\n",
       "      <td>51</td>\n",
       "      <td>74</td>\n",
       "    </tr>\n",
       "    <tr>\n",
       "      <th>2017-01-06</th>\n",
       "      <td>471.781061</td>\n",
       "      <td>487.466876</td>\n",
       "      <td>471.479411</td>\n",
       "      <td>486.662476</td>\n",
       "      <td>9658212</td>\n",
       "      <td>75</td>\n",
       "      <td>100</td>\n",
       "      <td>74</td>\n",
       "      <td>82</td>\n",
       "      <td>40</td>\n",
       "      <td>79</td>\n",
       "    </tr>\n",
       "    <tr>\n",
       "      <th>2017-01-09</th>\n",
       "      <td>488.271294</td>\n",
       "      <td>490.282296</td>\n",
       "      <td>477.009682</td>\n",
       "      <td>480.629486</td>\n",
       "      <td>9031370</td>\n",
       "      <td>80</td>\n",
       "      <td>92</td>\n",
       "      <td>86</td>\n",
       "      <td>88</td>\n",
       "      <td>57</td>\n",
       "      <td>58</td>\n",
       "    </tr>\n",
       "  </tbody>\n",
       "</table>\n",
       "</div>"
      ],
      "text/plain": [
       "                  Open        High         Low       Close   Volume  \\\n",
       "Date                                                                  \n",
       "2017-01-03  475.803110  480.629515  472.585506  475.400909  6012671   \n",
       "2017-01-04  475.400868  476.607469  468.161261  470.574463  8970946   \n",
       "2017-01-05  469.769956  474.194159  468.563355  472.585358  5603166   \n",
       "2017-01-06  471.781061  487.466876  471.479411  486.662476  9658212   \n",
       "2017-01-09  488.271294  490.282296  477.009682  480.629486  9031370   \n",
       "\n",
       "            government  aircraft  Airbus  defence  BAE Systems  aerospace  \n",
       "Date                                                                       \n",
       "2017-01-03          68        86      91       81           64         71  \n",
       "2017-01-04          74        88      75       82           51         78  \n",
       "2017-01-05          75        80      81       85           51         74  \n",
       "2017-01-06          75       100      74       82           40         79  \n",
       "2017-01-09          80        92      86       88           57         58  "
      ]
     },
     "execution_count": 3,
     "metadata": {},
     "output_type": "execute_result"
    }
   ],
   "source": [
    "#Load DataFrame, Change Date back to Datetime Index\n",
    "df = pd.read_csv('/Users/josephbrennan/Desktop/Data/Merged/bae_merged.csv')\n",
    "df.drop('Unnamed: 0', axis=1, inplace=True)\n",
    "df['Date'] = pd.to_datetime(df.Date)\n",
    "df.index = pd.DatetimeIndex(df.Date)\n",
    "table_dates = df.Date\n",
    "df.drop('Date', axis=1, inplace=True)\n",
    "df.head()"
   ]
  },
  {
   "cell_type": "code",
   "execution_count": 4,
   "metadata": {},
   "outputs": [
    {
     "data": {
      "text/plain": [
       "(1135, 11)"
      ]
     },
     "execution_count": 4,
     "metadata": {},
     "output_type": "execute_result"
    }
   ],
   "source": [
    "#DataFrame Shape\n",
    "df.shape"
   ]
  },
  {
   "cell_type": "code",
   "execution_count": 5,
   "metadata": {},
   "outputs": [
    {
     "data": {
      "text/plain": [
       "Open           0\n",
       "High           0\n",
       "Low            0\n",
       "Close          0\n",
       "Volume         0\n",
       "government     0\n",
       "aircraft       0\n",
       "Airbus         0\n",
       "defence        0\n",
       "BAE Systems    0\n",
       "aerospace      0\n",
       "dtype: int64"
      ]
     },
     "execution_count": 5,
     "metadata": {},
     "output_type": "execute_result"
    }
   ],
   "source": [
    "#Check for Null\n",
    "df.isna().sum()"
   ]
  },
  {
   "cell_type": "code",
   "execution_count": 6,
   "metadata": {},
   "outputs": [
    {
     "data": {
      "text/html": [
       "<div>\n",
       "<style scoped>\n",
       "    .dataframe tbody tr th:only-of-type {\n",
       "        vertical-align: middle;\n",
       "    }\n",
       "\n",
       "    .dataframe tbody tr th {\n",
       "        vertical-align: top;\n",
       "    }\n",
       "\n",
       "    .dataframe thead th {\n",
       "        text-align: right;\n",
       "    }\n",
       "</style>\n",
       "<table border=\"1\" class=\"dataframe\">\n",
       "  <thead>\n",
       "    <tr style=\"text-align: right;\">\n",
       "      <th></th>\n",
       "      <th>Open</th>\n",
       "      <th>High</th>\n",
       "      <th>Low</th>\n",
       "      <th>Close</th>\n",
       "      <th>Volume</th>\n",
       "      <th>government</th>\n",
       "      <th>aircraft</th>\n",
       "      <th>Airbus</th>\n",
       "      <th>defence</th>\n",
       "      <th>BAE Systems</th>\n",
       "      <th>aerospace</th>\n",
       "    </tr>\n",
       "    <tr>\n",
       "      <th>Date</th>\n",
       "      <th></th>\n",
       "      <th></th>\n",
       "      <th></th>\n",
       "      <th></th>\n",
       "      <th></th>\n",
       "      <th></th>\n",
       "      <th></th>\n",
       "      <th></th>\n",
       "      <th></th>\n",
       "      <th></th>\n",
       "      <th></th>\n",
       "    </tr>\n",
       "  </thead>\n",
       "  <tbody>\n",
       "    <tr>\n",
       "      <th>2021-06-29</th>\n",
       "      <td>525.0</td>\n",
       "      <td>527.315002</td>\n",
       "      <td>522.200012</td>\n",
       "      <td>523.400024</td>\n",
       "      <td>5507683</td>\n",
       "      <td>95</td>\n",
       "      <td>92</td>\n",
       "      <td>83</td>\n",
       "      <td>86</td>\n",
       "      <td>53</td>\n",
       "      <td>79</td>\n",
       "    </tr>\n",
       "  </tbody>\n",
       "</table>\n",
       "</div>"
      ],
      "text/plain": [
       "             Open        High         Low       Close   Volume  government  \\\n",
       "Date                                                                         \n",
       "2021-06-29  525.0  527.315002  522.200012  523.400024  5507683          95   \n",
       "\n",
       "            aircraft  Airbus  defence  BAE Systems  aerospace  \n",
       "Date                                                           \n",
       "2021-06-29        92      83       86           53         79  "
      ]
     },
     "execution_count": 6,
     "metadata": {},
     "output_type": "execute_result"
    }
   ],
   "source": [
    "#Last row of data used to predict\n",
    "compare_price = df.tail(1)\n",
    "compare_price"
   ]
  },
  {
   "cell_type": "code",
   "execution_count": 7,
   "metadata": {},
   "outputs": [
    {
     "data": {
      "text/html": [
       "<div>\n",
       "<style scoped>\n",
       "    .dataframe tbody tr th:only-of-type {\n",
       "        vertical-align: middle;\n",
       "    }\n",
       "\n",
       "    .dataframe tbody tr th {\n",
       "        vertical-align: top;\n",
       "    }\n",
       "\n",
       "    .dataframe thead th {\n",
       "        text-align: right;\n",
       "    }\n",
       "</style>\n",
       "<table border=\"1\" class=\"dataframe\">\n",
       "  <thead>\n",
       "    <tr style=\"text-align: right;\">\n",
       "      <th></th>\n",
       "      <th>Open</th>\n",
       "      <th>High</th>\n",
       "      <th>Low</th>\n",
       "      <th>Close</th>\n",
       "      <th>Volume</th>\n",
       "      <th>government</th>\n",
       "      <th>aircraft</th>\n",
       "      <th>Airbus</th>\n",
       "      <th>defence</th>\n",
       "      <th>BAE Systems</th>\n",
       "      <th>aerospace</th>\n",
       "    </tr>\n",
       "    <tr>\n",
       "      <th>Date</th>\n",
       "      <th></th>\n",
       "      <th></th>\n",
       "      <th></th>\n",
       "      <th></th>\n",
       "      <th></th>\n",
       "      <th></th>\n",
       "      <th></th>\n",
       "      <th></th>\n",
       "      <th></th>\n",
       "      <th></th>\n",
       "      <th></th>\n",
       "    </tr>\n",
       "  </thead>\n",
       "  <tbody>\n",
       "    <tr>\n",
       "      <th>2017-01-03</th>\n",
       "      <td>475.803110</td>\n",
       "      <td>480.629515</td>\n",
       "      <td>472.585506</td>\n",
       "      <td>475.400909</td>\n",
       "      <td>6012671</td>\n",
       "      <td>68</td>\n",
       "      <td>86</td>\n",
       "      <td>91</td>\n",
       "      <td>81</td>\n",
       "      <td>64</td>\n",
       "      <td>71</td>\n",
       "    </tr>\n",
       "    <tr>\n",
       "      <th>2017-01-04</th>\n",
       "      <td>475.400868</td>\n",
       "      <td>476.607469</td>\n",
       "      <td>468.161261</td>\n",
       "      <td>470.574463</td>\n",
       "      <td>8970946</td>\n",
       "      <td>74</td>\n",
       "      <td>88</td>\n",
       "      <td>75</td>\n",
       "      <td>82</td>\n",
       "      <td>51</td>\n",
       "      <td>78</td>\n",
       "    </tr>\n",
       "    <tr>\n",
       "      <th>2017-01-05</th>\n",
       "      <td>469.769956</td>\n",
       "      <td>474.194159</td>\n",
       "      <td>468.563355</td>\n",
       "      <td>472.585358</td>\n",
       "      <td>5603166</td>\n",
       "      <td>75</td>\n",
       "      <td>80</td>\n",
       "      <td>81</td>\n",
       "      <td>85</td>\n",
       "      <td>51</td>\n",
       "      <td>74</td>\n",
       "    </tr>\n",
       "    <tr>\n",
       "      <th>2017-01-06</th>\n",
       "      <td>471.781061</td>\n",
       "      <td>487.466876</td>\n",
       "      <td>471.479411</td>\n",
       "      <td>486.662476</td>\n",
       "      <td>9658212</td>\n",
       "      <td>75</td>\n",
       "      <td>100</td>\n",
       "      <td>74</td>\n",
       "      <td>82</td>\n",
       "      <td>40</td>\n",
       "      <td>79</td>\n",
       "    </tr>\n",
       "    <tr>\n",
       "      <th>2017-01-09</th>\n",
       "      <td>488.271294</td>\n",
       "      <td>490.282296</td>\n",
       "      <td>477.009682</td>\n",
       "      <td>480.629486</td>\n",
       "      <td>9031370</td>\n",
       "      <td>80</td>\n",
       "      <td>92</td>\n",
       "      <td>86</td>\n",
       "      <td>88</td>\n",
       "      <td>57</td>\n",
       "      <td>58</td>\n",
       "    </tr>\n",
       "    <tr>\n",
       "      <th>...</th>\n",
       "      <td>...</td>\n",
       "      <td>...</td>\n",
       "      <td>...</td>\n",
       "      <td>...</td>\n",
       "      <td>...</td>\n",
       "      <td>...</td>\n",
       "      <td>...</td>\n",
       "      <td>...</td>\n",
       "      <td>...</td>\n",
       "      <td>...</td>\n",
       "      <td>...</td>\n",
       "    </tr>\n",
       "    <tr>\n",
       "      <th>2021-06-22</th>\n",
       "      <td>539.799988</td>\n",
       "      <td>541.799988</td>\n",
       "      <td>535.799988</td>\n",
       "      <td>538.200012</td>\n",
       "      <td>3922952</td>\n",
       "      <td>92</td>\n",
       "      <td>88</td>\n",
       "      <td>84</td>\n",
       "      <td>87</td>\n",
       "      <td>66</td>\n",
       "      <td>89</td>\n",
       "    </tr>\n",
       "    <tr>\n",
       "      <th>2021-06-23</th>\n",
       "      <td>540.000000</td>\n",
       "      <td>540.200012</td>\n",
       "      <td>532.799988</td>\n",
       "      <td>532.799988</td>\n",
       "      <td>4533214</td>\n",
       "      <td>92</td>\n",
       "      <td>95</td>\n",
       "      <td>81</td>\n",
       "      <td>94</td>\n",
       "      <td>44</td>\n",
       "      <td>74</td>\n",
       "    </tr>\n",
       "    <tr>\n",
       "      <th>2021-06-24</th>\n",
       "      <td>534.799988</td>\n",
       "      <td>536.000000</td>\n",
       "      <td>529.799988</td>\n",
       "      <td>533.599976</td>\n",
       "      <td>4007860</td>\n",
       "      <td>97</td>\n",
       "      <td>90</td>\n",
       "      <td>77</td>\n",
       "      <td>95</td>\n",
       "      <td>64</td>\n",
       "      <td>81</td>\n",
       "    </tr>\n",
       "    <tr>\n",
       "      <th>2021-06-25</th>\n",
       "      <td>534.599976</td>\n",
       "      <td>535.599976</td>\n",
       "      <td>527.976990</td>\n",
       "      <td>535.000000</td>\n",
       "      <td>6295721</td>\n",
       "      <td>90</td>\n",
       "      <td>86</td>\n",
       "      <td>80</td>\n",
       "      <td>89</td>\n",
       "      <td>69</td>\n",
       "      <td>64</td>\n",
       "    </tr>\n",
       "    <tr>\n",
       "      <th>2021-06-28</th>\n",
       "      <td>532.200012</td>\n",
       "      <td>534.000000</td>\n",
       "      <td>525.400024</td>\n",
       "      <td>525.599976</td>\n",
       "      <td>4748146</td>\n",
       "      <td>98</td>\n",
       "      <td>82</td>\n",
       "      <td>76</td>\n",
       "      <td>93</td>\n",
       "      <td>71</td>\n",
       "      <td>80</td>\n",
       "    </tr>\n",
       "  </tbody>\n",
       "</table>\n",
       "<p>1134 rows × 11 columns</p>\n",
       "</div>"
      ],
      "text/plain": [
       "                  Open        High         Low       Close   Volume  \\\n",
       "Date                                                                  \n",
       "2017-01-03  475.803110  480.629515  472.585506  475.400909  6012671   \n",
       "2017-01-04  475.400868  476.607469  468.161261  470.574463  8970946   \n",
       "2017-01-05  469.769956  474.194159  468.563355  472.585358  5603166   \n",
       "2017-01-06  471.781061  487.466876  471.479411  486.662476  9658212   \n",
       "2017-01-09  488.271294  490.282296  477.009682  480.629486  9031370   \n",
       "...                ...         ...         ...         ...      ...   \n",
       "2021-06-22  539.799988  541.799988  535.799988  538.200012  3922952   \n",
       "2021-06-23  540.000000  540.200012  532.799988  532.799988  4533214   \n",
       "2021-06-24  534.799988  536.000000  529.799988  533.599976  4007860   \n",
       "2021-06-25  534.599976  535.599976  527.976990  535.000000  6295721   \n",
       "2021-06-28  532.200012  534.000000  525.400024  525.599976  4748146   \n",
       "\n",
       "            government  aircraft  Airbus  defence  BAE Systems  aerospace  \n",
       "Date                                                                       \n",
       "2017-01-03          68        86      91       81           64         71  \n",
       "2017-01-04          74        88      75       82           51         78  \n",
       "2017-01-05          75        80      81       85           51         74  \n",
       "2017-01-06          75       100      74       82           40         79  \n",
       "2017-01-09          80        92      86       88           57         58  \n",
       "...                ...       ...     ...      ...          ...        ...  \n",
       "2021-06-22          92        88      84       87           66         89  \n",
       "2021-06-23          92        95      81       94           44         74  \n",
       "2021-06-24          97        90      77       95           64         81  \n",
       "2021-06-25          90        86      80       89           69         64  \n",
       "2021-06-28          98        82      76       93           71         80  \n",
       "\n",
       "[1134 rows x 11 columns]"
      ]
     },
     "execution_count": 7,
     "metadata": {},
     "output_type": "execute_result"
    }
   ],
   "source": [
    "#Get all data except last row (actual_price)\n",
    "df = df.head(len(df)-1)\n",
    "df"
   ]
  },
  {
   "cell_type": "code",
   "execution_count": 8,
   "metadata": {},
   "outputs": [
    {
     "data": {
      "text/plain": [
       "['Open',\n",
       " 'High',\n",
       " 'Low',\n",
       " 'Volume',\n",
       " 'government',\n",
       " 'aircraft',\n",
       " 'Airbus',\n",
       " 'defence',\n",
       " 'BAE Systems',\n",
       " 'aerospace']"
      ]
     },
     "execution_count": 8,
     "metadata": {},
     "output_type": "execute_result"
    }
   ],
   "source": [
    "#Save Feature Columns\n",
    "feature_list = list(df.columns)\n",
    "feature_list.remove('Close')\n",
    "feature_list"
   ]
  },
  {
   "cell_type": "code",
   "execution_count": 9,
   "metadata": {},
   "outputs": [],
   "source": [
    "df = pd.get_dummies(df)"
   ]
  },
  {
   "cell_type": "code",
   "execution_count": 10,
   "metadata": {},
   "outputs": [],
   "source": [
    "#Features (X) and Labels (y)\n",
    "y = df.iloc[:, 3].values\n",
    "X = df.iloc[:, [0, 1, 2, 4, 5, 6, 7, 8, 9, 10]].values"
   ]
  },
  {
   "cell_type": "code",
   "execution_count": 11,
   "metadata": {},
   "outputs": [
    {
     "name": "stdout",
     "output_type": "stream",
     "text": [
      "(793, 10)\n",
      "(341, 10)\n",
      "(793,)\n",
      "(341,)\n"
     ]
    }
   ],
   "source": [
    "#Model Training, Test Size Selection\n",
    "X_train, X_test, y_train, y_test = train_test_split(X, y, test_size = 0.3, random_state=100, shuffle=False)\n",
    "print(X_train.shape)\n",
    "print(X_test.shape)\n",
    "print(y_train.shape)\n",
    "print(y_test.shape)"
   ]
  },
  {
   "cell_type": "code",
   "execution_count": 12,
   "metadata": {},
   "outputs": [],
   "source": [
    "#Random Forest Regression\n",
    "model = RandomForestRegressor(n_estimators = 200, bootstrap=True)\n",
    "\"\"\"model = RandomForestRegressor(n_estimators = 800, \n",
    "                              min_samples_split = 2,\n",
    "                              min_samples_leaf = 1,\n",
    "                              max_features = 'auto',\n",
    "                              max_depth = 100,\n",
    "                              bootstrap=True)\n",
    "\"\"\"\n",
    "model.fit(X_train, y_train)\n",
    "y_pred = model.predict(X_test)"
   ]
  },
  {
   "cell_type": "code",
   "execution_count": 13,
   "metadata": {},
   "outputs": [
    {
     "name": "stdout",
     "output_type": "stream",
     "text": [
      "523.4000244140625\n"
     ]
    }
   ],
   "source": [
    "#Correct Price 29/06/2021\n",
    "actual_price = compare_price.iloc[0,3]\n",
    "print(actual_price)"
   ]
  },
  {
   "cell_type": "code",
   "execution_count": 14,
   "metadata": {},
   "outputs": [
    {
     "name": "stdout",
     "output_type": "stream",
     "text": [
      "[524.56163483]\n"
     ]
    }
   ],
   "source": [
    "#Predicted Price 29/06/2021\n",
    "compare_price.drop('Close', axis=1, inplace=True)\n",
    "next_day_price = model.predict(compare_price)\n",
    "print(next_day_price)"
   ]
  },
  {
   "cell_type": "code",
   "execution_count": 15,
   "metadata": {},
   "outputs": [
    {
     "name": "stdout",
     "output_type": "stream",
     "text": [
      "R-squared score:  0.964\n",
      "Mean Absolute Error: 4.302\n",
      "Mean Absolute Percentage Error (MAPE): 0.9\n",
      "Mean Squared Error: 37.37309920054885 3\n",
      "Root Mean Squared Error: 6.11335416940233\n",
      "Accuracy: 99.1\n"
     ]
    }
   ],
   "source": [
    "#Model Evaluation Scores\n",
    "from sklearn import metrics\n",
    "\n",
    "print('R-squared score: ', round(model.score(X_test, y_test), 3))\n",
    "print('Mean Absolute Error:', round(metrics.mean_absolute_error(y_test, y_pred), 3))\n",
    "mape = np.mean(np.abs((y_test - y_pred) / np.abs(y_test)))\n",
    "print('Mean Absolute Percentage Error (MAPE):', round(mape * 100, 2))\n",
    "print('Mean Squared Error:', metrics.mean_squared_error(y_test, y_pred), 3)\n",
    "print('Root Mean Squared Error:', np.sqrt(metrics.mean_squared_error(y_test, y_pred)))\n",
    "print('Accuracy:', round(100*(1 - mape), 2))"
   ]
  },
  {
   "cell_type": "code",
   "execution_count": 16,
   "metadata": {},
   "outputs": [],
   "source": [
    "#Check Importance of Variables\n",
    "importances = list(model.feature_importances_)"
   ]
  },
  {
   "cell_type": "code",
   "execution_count": 17,
   "metadata": {},
   "outputs": [],
   "source": [
    "#Zip features and their importance\n",
    "feature_importance = [(feature, round(importance, 2)) \n",
    "                      for feature, importance in \n",
    "                      zip(compare_price, importances)]"
   ]
  },
  {
   "cell_type": "code",
   "execution_count": 18,
   "metadata": {},
   "outputs": [],
   "source": [
    "#Sort Features\n",
    "feature_importance = sorted(feature_importance, \n",
    "                                key = lambda x: x[1], \n",
    "                                reverse = True)"
   ]
  },
  {
   "cell_type": "code",
   "execution_count": 19,
   "metadata": {},
   "outputs": [
    {
     "name": "stdout",
     "output_type": "stream",
     "text": [
      "Variable: High \tImportance: 0.8\n",
      "Variable: Low \tImportance: 0.19\n",
      "Variable: Open \tImportance: 0.0\n",
      "Variable: Volume \tImportance: 0.0\n",
      "Variable: government \tImportance: 0.0\n",
      "Variable: aircraft \tImportance: 0.0\n",
      "Variable: Airbus \tImportance: 0.0\n",
      "Variable: defence \tImportance: 0.0\n",
      "Variable: BAE Systems \tImportance: 0.0\n",
      "Variable: aerospace \tImportance: 0.0\n"
     ]
    }
   ],
   "source": [
    "#Print Feature Importance\n",
    "for feature, importance in feature_importance:\n",
    "    print(f'Variable: {feature} \\tImportance: {importance}')"
   ]
  },
  {
   "cell_type": "code",
   "execution_count": 20,
   "metadata": {},
   "outputs": [
    {
     "data": {
      "text/plain": [
       "Text(0.5, 1.0, 'BT Variable Importances')"
      ]
     },
     "execution_count": 20,
     "metadata": {},
     "output_type": "execute_result"
    },
    {
     "data": {
      "image/png": "[encoded data removed]",
      "text/plain": [
       "<Figure size 432x288 with 1 Axes>"
      ]
     },
     "metadata": {
      "needs_background": "light"
     },
     "output_type": "display_data"
    }
   ],
   "source": [
    "%matplotlib inline\n",
    "\n",
    "x_values = list(range(len(importances)))\n",
    "\n",
    "plt.bar(x_values, importances, orientation = 'vertical')\n",
    "\n",
    "plt.xticks(x_values, compare_price, rotation='vertical')\n",
    "\n",
    "plt.ylabel('Importance'); plt.xlabel('Variable')\n",
    "plt.xticks(rotation='60')\n",
    "plt.title('BT Variable Importances')"
   ]
  },
  {
   "cell_type": "code",
   "execution_count": 21,
   "metadata": {},
   "outputs": [
    {
     "data": {
      "text/plain": [
       "DatetimeIndex(['2017-01-03', '2017-01-04', '2017-01-05', '2017-01-06',\n",
       "               '2017-01-09', '2017-01-10', '2017-01-11', '2017-01-12',\n",
       "               '2017-01-13', '2017-01-16',\n",
       "               ...\n",
       "               '2021-06-15', '2021-06-16', '2021-06-17', '2021-06-18',\n",
       "               '2021-06-21', '2021-06-22', '2021-06-23', '2021-06-24',\n",
       "               '2021-06-25', '2021-06-28'],\n",
       "              dtype='datetime64[ns]', name='Date', length=1134, freq=None)"
      ]
     },
     "execution_count": 21,
     "metadata": {},
     "output_type": "execute_result"
    }
   ],
   "source": [
    "dates = df.index\n",
    "dates"
   ]
  },
  {
   "cell_type": "code",
   "execution_count": 22,
   "metadata": {},
   "outputs": [
    {
     "data": {
      "text/html": [
       "<div>\n",
       "<style scoped>\n",
       "    .dataframe tbody tr th:only-of-type {\n",
       "        vertical-align: middle;\n",
       "    }\n",
       "\n",
       "    .dataframe tbody tr th {\n",
       "        vertical-align: top;\n",
       "    }\n",
       "\n",
       "    .dataframe thead th {\n",
       "        text-align: right;\n",
       "    }\n",
       "</style>\n",
       "<table border=\"1\" class=\"dataframe\">\n",
       "  <thead>\n",
       "    <tr style=\"text-align: right;\">\n",
       "      <th></th>\n",
       "      <th>date</th>\n",
       "      <th>actual</th>\n",
       "    </tr>\n",
       "  </thead>\n",
       "  <tbody>\n",
       "    <tr>\n",
       "      <th>0</th>\n",
       "      <td>2017-01-03</td>\n",
       "      <td>475.400909</td>\n",
       "    </tr>\n",
       "    <tr>\n",
       "      <th>1</th>\n",
       "      <td>2017-01-04</td>\n",
       "      <td>470.574463</td>\n",
       "    </tr>\n",
       "    <tr>\n",
       "      <th>2</th>\n",
       "      <td>2017-01-05</td>\n",
       "      <td>472.585358</td>\n",
       "    </tr>\n",
       "    <tr>\n",
       "      <th>3</th>\n",
       "      <td>2017-01-06</td>\n",
       "      <td>486.662476</td>\n",
       "    </tr>\n",
       "    <tr>\n",
       "      <th>4</th>\n",
       "      <td>2017-01-09</td>\n",
       "      <td>480.629486</td>\n",
       "    </tr>\n",
       "    <tr>\n",
       "      <th>...</th>\n",
       "      <td>...</td>\n",
       "      <td>...</td>\n",
       "    </tr>\n",
       "    <tr>\n",
       "      <th>1129</th>\n",
       "      <td>2021-06-22</td>\n",
       "      <td>538.200012</td>\n",
       "    </tr>\n",
       "    <tr>\n",
       "      <th>1130</th>\n",
       "      <td>2021-06-23</td>\n",
       "      <td>532.799988</td>\n",
       "    </tr>\n",
       "    <tr>\n",
       "      <th>1131</th>\n",
       "      <td>2021-06-24</td>\n",
       "      <td>533.599976</td>\n",
       "    </tr>\n",
       "    <tr>\n",
       "      <th>1132</th>\n",
       "      <td>2021-06-25</td>\n",
       "      <td>535.000000</td>\n",
       "    </tr>\n",
       "    <tr>\n",
       "      <th>1133</th>\n",
       "      <td>2021-06-28</td>\n",
       "      <td>525.599976</td>\n",
       "    </tr>\n",
       "  </tbody>\n",
       "</table>\n",
       "<p>1134 rows × 2 columns</p>\n",
       "</div>"
      ],
      "text/plain": [
       "           date      actual\n",
       "0    2017-01-03  475.400909\n",
       "1    2017-01-04  470.574463\n",
       "2    2017-01-05  472.585358\n",
       "3    2017-01-06  486.662476\n",
       "4    2017-01-09  480.629486\n",
       "...         ...         ...\n",
       "1129 2021-06-22  538.200012\n",
       "1130 2021-06-23  532.799988\n",
       "1131 2021-06-24  533.599976\n",
       "1132 2021-06-25  535.000000\n",
       "1133 2021-06-28  525.599976\n",
       "\n",
       "[1134 rows x 2 columns]"
      ]
     },
     "execution_count": 22,
     "metadata": {},
     "output_type": "execute_result"
    }
   ],
   "source": [
    "true_data =pd.DataFrame(data = {'date': dates, 'actual': y})\n",
    "true_data"
   ]
  },
  {
   "cell_type": "code",
   "execution_count": 23,
   "metadata": {},
   "outputs": [],
   "source": [
    "test_dates = table_dates[1-(len(y_pred)+1):]"
   ]
  },
  {
   "cell_type": "code",
   "execution_count": 24,
   "metadata": {},
   "outputs": [
    {
     "data": {
      "text/html": [
       "<div>\n",
       "<style scoped>\n",
       "    .dataframe tbody tr th:only-of-type {\n",
       "        vertical-align: middle;\n",
       "    }\n",
       "\n",
       "    .dataframe tbody tr th {\n",
       "        vertical-align: top;\n",
       "    }\n",
       "\n",
       "    .dataframe thead th {\n",
       "        text-align: right;\n",
       "    }\n",
       "</style>\n",
       "<table border=\"1\" class=\"dataframe\">\n",
       "  <thead>\n",
       "    <tr style=\"text-align: right;\">\n",
       "      <th></th>\n",
       "      <th>date</th>\n",
       "      <th>predictions</th>\n",
       "    </tr>\n",
       "    <tr>\n",
       "      <th>Date</th>\n",
       "      <th></th>\n",
       "      <th></th>\n",
       "    </tr>\n",
       "  </thead>\n",
       "  <tbody>\n",
       "    <tr>\n",
       "      <th>2020-02-21</th>\n",
       "      <td>2020-02-21</td>\n",
       "      <td>582.719892</td>\n",
       "    </tr>\n",
       "    <tr>\n",
       "      <th>2020-02-24</th>\n",
       "      <td>2020-02-24</td>\n",
       "      <td>590.938639</td>\n",
       "    </tr>\n",
       "    <tr>\n",
       "      <th>2020-02-25</th>\n",
       "      <td>2020-02-25</td>\n",
       "      <td>591.330716</td>\n",
       "    </tr>\n",
       "    <tr>\n",
       "      <th>2020-02-26</th>\n",
       "      <td>2020-02-26</td>\n",
       "      <td>583.469686</td>\n",
       "    </tr>\n",
       "    <tr>\n",
       "      <th>2020-02-27</th>\n",
       "      <td>2020-02-27</td>\n",
       "      <td>573.692021</td>\n",
       "    </tr>\n",
       "    <tr>\n",
       "      <th>...</th>\n",
       "      <td>...</td>\n",
       "      <td>...</td>\n",
       "    </tr>\n",
       "    <tr>\n",
       "      <th>2021-06-23</th>\n",
       "      <td>2021-06-23</td>\n",
       "      <td>537.666964</td>\n",
       "    </tr>\n",
       "    <tr>\n",
       "      <th>2021-06-24</th>\n",
       "      <td>2021-06-24</td>\n",
       "      <td>535.482339</td>\n",
       "    </tr>\n",
       "    <tr>\n",
       "      <th>2021-06-25</th>\n",
       "      <td>2021-06-25</td>\n",
       "      <td>532.109060</td>\n",
       "    </tr>\n",
       "    <tr>\n",
       "      <th>2021-06-28</th>\n",
       "      <td>2021-06-28</td>\n",
       "      <td>533.014065</td>\n",
       "    </tr>\n",
       "    <tr>\n",
       "      <th>2021-06-29</th>\n",
       "      <td>2021-06-29</td>\n",
       "      <td>531.893023</td>\n",
       "    </tr>\n",
       "  </tbody>\n",
       "</table>\n",
       "<p>341 rows × 2 columns</p>\n",
       "</div>"
      ],
      "text/plain": [
       "                 date  predictions\n",
       "Date                              \n",
       "2020-02-21 2020-02-21   582.719892\n",
       "2020-02-24 2020-02-24   590.938639\n",
       "2020-02-25 2020-02-25   591.330716\n",
       "2020-02-26 2020-02-26   583.469686\n",
       "2020-02-27 2020-02-27   573.692021\n",
       "...               ...          ...\n",
       "2021-06-23 2021-06-23   537.666964\n",
       "2021-06-24 2021-06-24   535.482339\n",
       "2021-06-25 2021-06-25   532.109060\n",
       "2021-06-28 2021-06-28   533.014065\n",
       "2021-06-29 2021-06-29   531.893023\n",
       "\n",
       "[341 rows x 2 columns]"
      ]
     },
     "execution_count": 24,
     "metadata": {},
     "output_type": "execute_result"
    }
   ],
   "source": [
    "predictions_data = pd.DataFrame(data = {'date': test_dates, 'predictions':y_pred})\n",
    "predictions_data"
   ]
  },
  {
   "cell_type": "code",
   "execution_count": 25,
   "metadata": {},
   "outputs": [
    {
     "name": "stdout",
     "output_type": "stream",
     "text": [
      "52.50588725070159\n"
     ]
    },
    {
     "data": {
      "text/plain": [
       "7.24609462060092"
      ]
     },
     "execution_count": 25,
     "metadata": {},
     "output_type": "execute_result"
    }
   ],
   "source": [
    "prevThirtyDays = df.tail(30)\n",
    "prevPrices = prevThirtyDays[\"Close\"].values\n",
    "variance = np.var(prevPrices)\n",
    "print(variance)\n",
    "std_dev = variance ** 0.5\n",
    "std_dev"
   ]
  },
  {
   "cell_type": "code",
   "execution_count": 26,
   "metadata": {},
   "outputs": [
    {
     "data": {
      "image/png": "[encoded data removed]",
      "text/plain": [
       "<Figure size 432x288 with 1 Axes>"
      ]
     },
     "metadata": {
      "needs_background": "light"
     },
     "output_type": "display_data"
    }
   ],
   "source": [
    "plt.plot(true_data['date'], true_data['actual'], label = 'Actual')\n",
    "plt.plot(predictions_data['date'], predictions_data['predictions'], label='Predictions')\n",
    "plt.xticks(rotation='60')\n",
    "plt.ylabel(\"Close Price in GBp\")\n",
    "plt.title(\"Actual vs Predicted Closing Prices (Random Forest)\")\n",
    "plt.legend()\n",
    "plt.show()"
   ]
  },
  {
   "cell_type": "code",
   "execution_count": 27,
   "metadata": {},
   "outputs": [
    {
     "data": {
      "image/png": "[encoded data removed]",
      "text/plain": [
       "<Figure size 432x288 with 1 Axes>"
      ]
     },
     "metadata": {
      "needs_background": "light"
     },
     "output_type": "display_data"
    }
   ],
   "source": [
    "#Plot decision tree\n",
    "from sklearn import tree\n",
    "\n",
    "fig = tree.plot_tree(model.estimators_[0], feature_names=list(df), rounded=True, filled=True)"
   ]
  },
  {
   "cell_type": "code",
   "execution_count": 28,
   "metadata": {},
   "outputs": [
    {
     "name": "stdout",
     "output_type": "stream",
     "text": [
      "46.114913\n"
     ]
    }
   ],
   "source": [
    " print(time.process_time() - start)"
   ]
  }
 ],
 "metadata": {
  "kernelspec": {
   "display_name": "Anaconda (base)",
   "language": "python",
   "name": "anaconda-base"
  },
  "language_info": {
   "codemirror_mode": {
    "name": "ipython",
    "version": 3
   },
   "file_extension": ".py",
   "mimetype": "text/x-python",
   "name": "python",
   "nbconvert_exporter": "python",
   "pygments_lexer": "ipython3",
   "version": "3.8.5"
  }
 },
 "nbformat": 4,
 "nbformat_minor": 4
}
